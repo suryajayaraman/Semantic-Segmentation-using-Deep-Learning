{
 "cells": [
  {
   "cell_type": "code",
   "execution_count": 2,
   "id": "0f4b6203",
   "metadata": {},
   "outputs": [
    {
     "name": "stderr",
     "output_type": "stream",
     "text": [
      "D:\\surya\\miniconda37\\envs\\imgseg\\lib\\site-packages\\tqdm\\auto.py:22: TqdmWarning: IProgress not found. Please update jupyter and ipywidgets. See https://ipywidgets.readthedocs.io/en/stable/user_install.html\n",
      "  from .autonotebook import tqdm as notebook_tqdm\n"
     ]
    }
   ],
   "source": [
    "# basic imports\n",
    "import numpy as np\n",
    "\n",
    "# DL imports\n",
    "import torch\n",
    "from einops import rearrange\n",
    "from torch import nn, einsum\n",
    "from functools import partial\n",
    "import torch.nn.functional as F"
   ]
  },
  {
   "cell_type": "code",
   "execution_count": 4,
   "id": "381958b9",
   "metadata": {},
   "outputs": [],
   "source": [
    "import matplotlib.pyplot as plt"
   ]
  },
  {
   "cell_type": "code",
   "execution_count": 10,
   "id": "3151d120",
   "metadata": {},
   "outputs": [
    {
     "data": {
      "text/plain": [
       "5.011872336272725e-05"
      ]
     },
     "execution_count": 10,
     "metadata": {},
     "output_type": "execute_result"
    }
   ],
   "source": [
    "10**-4.3"
   ]
  },
  {
   "cell_type": "code",
   "execution_count": 9,
   "id": "869215fb",
   "metadata": {},
   "outputs": [
    {
     "data": {
      "text/plain": [
       "<matplotlib.collections.PathCollection at 0xfce3e10>"
      ]
     },
     "execution_count": 9,
     "metadata": {},
     "output_type": "execute_result"
    },
    {
     "data": {
      "image/png": "[encoded data removed]",
      "text/plain": [
       "<Figure size 432x288 with 1 Axes>"
      ]
     },
     "metadata": {
      "needs_background": "light"
     },
     "output_type": "display_data"
    }
   ],
   "source": [
    "model = torch.nn.Linear(2, 1)\n",
    "optimizer = torch.optim.SGD(model.parameters(), lr=100)\n",
    "scheduler = torch.optim.lr_scheduler.ExponentialLR(optimizer, gamma=0.9)\n",
    "lrs = []\n",
    "\n",
    "\n",
    "for i in range(1000):\n",
    "    optimizer.step()\n",
    "    lrs.append(optimizer.param_groups[0][\"lr\"])\n",
    "#     print(\"Factor = \",0.1,\" , Learning Rate = \",optimizer.param_groups[0][\"lr\"])\n",
    "    scheduler.step()\n",
    "\n",
    "plt.plot(lrs)\n",
    "plt.scatter(range(len(lrs)), lrs)"
   ]
  },
  {
   "cell_type": "code",
   "execution_count": 2,
   "id": "320ee28b",
   "metadata": {},
   "outputs": [],
   "source": [
    "def cast_tuple(val, depth):\n",
    "    return val if isinstance(val, tuple) else (val,) * depth"
   ]
  },
  {
   "cell_type": "code",
   "execution_count": 3,
   "id": "f02836b6",
   "metadata": {},
   "outputs": [],
   "source": [
    "class DsConv2d(nn.Module):\n",
    "    def __init__(self, dim_in, dim_out, kernel_size, padding, stride = 1, bias = True):\n",
    "        super().__init__()\n",
    "        self.net = nn.Sequential(\n",
    "            nn.Conv2d(dim_in, dim_in, kernel_size = kernel_size, padding = padding, groups = dim_in, stride = stride, bias = bias),\n",
    "            nn.Conv2d(dim_in, dim_out, kernel_size = 1, bias = bias)\n",
    "        )\n",
    "    def forward(self, x):\n",
    "        return self.net(x)"
   ]
  },
  {
   "cell_type": "code",
   "execution_count": 4,
   "id": "0acf2208",
   "metadata": {},
   "outputs": [],
   "source": [
    "# dsConvInput = torch.Tensor(2,3,180,320)\n",
    "# print(\"dsConvInput.shape = \", dsConvInput.shape)\n",
    "# model = DsConv2d(dim_in=3, dim_out=12, kernel_size=3, padding=1)\n",
    "# dsConvOutput = model(dsConvInput)\n",
    "# print(\"dsConvOutput.shape = \", dsConvOutput.shape)"
   ]
  },
  {
   "cell_type": "code",
   "execution_count": 5,
   "id": "6074542d",
   "metadata": {},
   "outputs": [],
   "source": [
    "class LayerNorm(nn.Module):\n",
    "    def __init__(self, dim, eps = 1e-5):\n",
    "        super().__init__()\n",
    "        self.eps = eps\n",
    "        self.g = nn.Parameter(torch.ones(1, dim, 1, 1))\n",
    "        self.b = nn.Parameter(torch.zeros(1, dim, 1, 1))\n",
    "\n",
    "    def forward(self, x):\n",
    "        std = torch.var(x, dim = 1, unbiased = False, keepdim = True).sqrt()\n",
    "#         print(\"std shape = \", std.shape)\n",
    "        mean = torch.mean(x, dim = 1, keepdim = True)\n",
    "#         print(\"mean shape = \", mean.shape)\n",
    "        return (x - mean) / (std + self.eps) * self.g + self.b"
   ]
  },
  {
   "cell_type": "code",
   "execution_count": 6,
   "id": "566defe3",
   "metadata": {},
   "outputs": [],
   "source": [
    "# layerNormInput = torch.Tensor(10,3,180,320)\n",
    "# print(\"layerNormInput.shape = \" , layerNormInput.shape)\n",
    "# model = LayerNorm(dim=3)\n",
    "# layerNormOutput = model(layerNormInput)\n",
    "# print(\"layerNormOutput.shape = \" , layerNormOutput.shape)"
   ]
  },
  {
   "cell_type": "code",
   "execution_count": 7,
   "id": "6b1ebf9d",
   "metadata": {},
   "outputs": [],
   "source": [
    "class PreNorm(nn.Module):\n",
    "    def __init__(self, dim, fn):\n",
    "        super().__init__()\n",
    "        self.fn = fn\n",
    "        self.norm = LayerNorm(dim)\n",
    "\n",
    "    def forward(self, x):\n",
    "        return self.fn(self.norm(x))"
   ]
  },
  {
   "cell_type": "code",
   "execution_count": 8,
   "id": "171f7406",
   "metadata": {},
   "outputs": [],
   "source": [
    "class MixFeedForward(nn.Module):\n",
    "    def __init__(self, *, dim, expansion_factor):\n",
    "        super().__init__()\n",
    "        hidden_dim = dim * expansion_factor\n",
    "        self.net = nn.Sequential(\n",
    "            nn.Conv2d(dim, hidden_dim, 1),\n",
    "            DsConv2d(hidden_dim, hidden_dim, 3, padding = 1),\n",
    "            nn.GELU(),\n",
    "            nn.Conv2d(hidden_dim, dim, 1)\n",
    "        )\n",
    "\n",
    "    def forward(self, x):\n",
    "        return self.net(x)"
   ]
  },
  {
   "cell_type": "code",
   "execution_count": 9,
   "id": "4e237f73",
   "metadata": {},
   "outputs": [],
   "source": [
    "# mixFeedForwardInput = torch.Tensor(2,3,180,320)\n",
    "# print(\"mixFeedForwardInput.shape = \" , mixFeedForwardInput.shape)\n",
    "# model = MixFeedForward(dim=3, expansion_factor=4)\n",
    "# mixFeedForwardOutput = model(mixFeedForwardInput)\n",
    "# print(\"mixFeedForwardOutput.shape = \" , mixFeedForwardOutput.shape)"
   ]
  },
  {
   "cell_type": "code",
   "execution_count": 10,
   "id": "d1dca3c7",
   "metadata": {},
   "outputs": [],
   "source": [
    "class EfficientSelfAttention(nn.Module):\n",
    "    def __init__(self, *, dim, heads, reduction_ratio):\n",
    "        super().__init__()\n",
    "        self.scale = (dim // heads) ** -0.5\n",
    "        self.heads = heads\n",
    "\n",
    "        self.to_q = nn.Conv2d(dim, dim, 1, bias = False)\n",
    "        self.to_kv = nn.Conv2d(dim, dim * 2, reduction_ratio, stride = reduction_ratio, bias = False)\n",
    "        self.to_out = nn.Conv2d(dim, dim, 1, bias = False)\n",
    "\n",
    "    def forward(self, x):\n",
    "        h, w = x.shape[-2:]\n",
    "        heads = self.heads\n",
    "\n",
    "        q, k, v = (self.to_q(x), *self.to_kv(x).chunk(2, dim = 1))\n",
    "        q, k, v = map(lambda t: rearrange(t, 'b (h c) x y -> (b h) (x y) c', h = heads), (q, k, v))\n",
    "\n",
    "        sim = einsum('b i d, b j d -> b i j', q, k) * self.scale\n",
    "        attn = sim.softmax(dim = -1)\n",
    "\n",
    "        out = einsum('b i j, b j d -> b i d', attn, v)\n",
    "        out = rearrange(out, '(b h) (x y) c -> b (h c) x y', h = heads, x = h, y = w)\n",
    "        return self.to_out(out)"
   ]
  },
  {
   "cell_type": "code",
   "execution_count": 11,
   "id": "e422a8a0",
   "metadata": {},
   "outputs": [],
   "source": [
    "class MiT(nn.Module):\n",
    "    def __init__(self, *, channels, dims, heads, ff_expansion, reduction_ratio, num_layers):\n",
    "        super().__init__()\n",
    "        stage_kernel_stride_pad = ((7, 4, 3), (3, 2, 1), (3, 2, 1), (3, 2, 1))\n",
    "\n",
    "        dims = (channels, *dims)\n",
    "        dim_pairs = list(zip(dims[:-1], dims[1:]))\n",
    "        self.stages = nn.ModuleList([])\n",
    "\n",
    "        for (dim_in, dim_out), (kernel, stride, padding), num_layers, ff_expansion, heads, reduction_ratio in zip(dim_pairs, stage_kernel_stride_pad, num_layers, ff_expansion, heads, reduction_ratio):\n",
    "            get_overlap_patches = nn.Unfold(kernel, stride = stride, padding = padding)\n",
    "            overlap_patch_embed = nn.Conv2d(dim_in * kernel ** 2, dim_out, 1)\n",
    "\n",
    "            layers = nn.ModuleList([])\n",
    "\n",
    "            for _ in range(num_layers):\n",
    "                layers.append(nn.ModuleList([\n",
    "                    PreNorm(dim_out, EfficientSelfAttention(dim = dim_out, heads = heads, reduction_ratio = reduction_ratio)),\n",
    "                    PreNorm(dim_out, MixFeedForward(dim = dim_out, expansion_factor = ff_expansion)),\n",
    "                ]))\n",
    "\n",
    "            self.stages.append(nn.ModuleList([\n",
    "                get_overlap_patches,\n",
    "                overlap_patch_embed,\n",
    "                layers\n",
    "            ]))\n",
    "\n",
    "    def forward(self, x, return_layer_outputs = False):\n",
    "        h, w = x.shape[-2:]\n",
    "\n",
    "        layer_outputs = []\n",
    "        for (get_overlap_patches, overlap_embed, layers) in self.stages:\n",
    "            x = get_overlap_patches(x)\n",
    "\n",
    "            num_patches = x.shape[-1]\n",
    "            ratio = int(np.sqrt((h * w) / num_patches))\n",
    "            x = rearrange(x, 'b c (h w) -> b c h w', h = h // ratio)\n",
    "\n",
    "            x = overlap_embed(x)\n",
    "            for (attn, ff) in layers:\n",
    "                x = attn(x) + x\n",
    "                x = ff(x) + x\n",
    "\n",
    "            layer_outputs.append(x)\n",
    "\n",
    "        ret = x if not return_layer_outputs else layer_outputs\n",
    "        return ret"
   ]
  },
  {
   "cell_type": "code",
   "execution_count": 12,
   "id": "30884426",
   "metadata": {},
   "outputs": [],
   "source": [
    "class Segformer(nn.Module):\n",
    "    def __init__(\n",
    "        self, *, dims = (32, 64, 160, 256), heads = (1, 2, 5, 8), ff_expansion = (8, 8, 4, 4),\n",
    "         reduction_ratio = (8, 4, 2, 1), num_layers = 2, channels = 3, decoder_dim = 256, num_classes = 4):\n",
    "        super().__init__()\n",
    "        dims, heads, ff_expansion, reduction_ratio, num_layers = map(partial(cast_tuple, depth = 4), (dims, heads, ff_expansion, reduction_ratio, num_layers))\n",
    "        assert all([*map(lambda t: len(t) == 4, (dims, heads, ff_expansion, reduction_ratio, num_layers))]), 'only four stages are allowed, all keyword arguments must be either a single value or a tuple of 4 values'\n",
    "\n",
    "        self.mit = MiT(\n",
    "            channels = channels,\n",
    "            dims = dims,\n",
    "            heads = heads,\n",
    "            ff_expansion = ff_expansion,\n",
    "            reduction_ratio = reduction_ratio,\n",
    "            num_layers = num_layers\n",
    "        )\n",
    "\n",
    "        self.to_fused = nn.ModuleList([nn.Sequential(\n",
    "            nn.Conv2d(dim, decoder_dim, 1),\n",
    "            nn.Upsample(scale_factor = 2 ** i)\n",
    "        ) for i, dim in enumerate(dims)])\n",
    "\n",
    "        self.to_segmentation = nn.Sequential(\n",
    "            nn.Conv2d(4 * decoder_dim, decoder_dim, 1),\n",
    "            nn.Conv2d(decoder_dim, num_classes, 1),\n",
    "        )\n",
    "\n",
    "    def forward(self, x):\n",
    "        h,w = x.size()[2:]\n",
    "        if(((h % 32 ==0) and (w % 32 ==0)) == False):\n",
    "            temp_h = round(h / 32) * 32\n",
    "            temp_w = round(w / 32) * 32\n",
    "            x = F.interpolate(x, (temp_h, temp_w), mode='bilinear', align_corners=False)\n",
    "        \n",
    "        layer_outputs = self.mit(x, return_layer_outputs = True)\n",
    "        fused = [to_fused(output) for output, to_fused in zip(layer_outputs, self.to_fused)]\n",
    "        fused = torch.cat(fused, dim = 1)\n",
    "        decoder_output = self.to_segmentation(fused)\n",
    "        return F.interpolate(decoder_output, (h,w), mode='bilinear', align_corners=False)"
   ]
  },
  {
   "cell_type": "code",
   "execution_count": 13,
   "id": "9b755d88",
   "metadata": {},
   "outputs": [
    {
     "name": "stdout",
     "output_type": "stream",
     "text": [
      "torch.Size([1, 3, 360, 640])\n"
     ]
    }
   ],
   "source": [
    "model = Segformer(\n",
    "    dims = (32, 64, 160, 256),      # dimensions of each stage\n",
    "    heads = (1, 2, 4, 8),           # heads of each stage\n",
    "    ff_expansion = (8, 8, 4, 4),    # feedforward expansion factor of each stage\n",
    "    reduction_ratio = (8, 4, 2, 1), # reduction ratio of each stage for efficient attention\n",
    "    num_layers = 2,                 # num layers of each stage\n",
    "    decoder_dim = 256,              # decoder dimension\n",
    "    num_classes = 3                 # number of segmentation classes\n",
    ")\n",
    "\n",
    "x = torch.randn(1, 3, 360, 640)\n",
    "pred = model(x)\n",
    "print(pred.shape)"
   ]
  }
 ],
 "metadata": {
  "colab": {
   "collapsed_sections": [],
   "name": "PSPNet_starter.ipynb",
   "provenance": []
  },
  "kernelspec": {
   "display_name": "python(imgseg)",
   "language": "python",
   "name": "imgseg"
  },
  "language_info": {
   "codemirror_mode": {
    "name": "ipython",
    "version": 3
   },
   "file_extension": ".py",
   "mimetype": "text/x-python",
   "name": "python",
   "nbconvert_exporter": "python",
   "pygments_lexer": "ipython3",
   "version": "3.7.0"
  }
 },
 "nbformat": 4,
 "nbformat_minor": 5
}
