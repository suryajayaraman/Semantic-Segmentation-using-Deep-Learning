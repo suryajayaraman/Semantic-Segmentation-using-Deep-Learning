{
 "cells": [
  {
   "cell_type": "code",
   "execution_count": 1,
   "id": "cc77079f",
   "metadata": {
    "execution": {
     "iopub.execute_input": "2022-09-24T16:12:43.906468Z",
     "iopub.status.busy": "2022-09-24T16:12:43.905924Z",
     "iopub.status.idle": "2022-09-24T16:12:45.859557Z",
     "shell.execute_reply": "2022-09-24T16:12:45.858508Z"
    },
    "papermill": {
     "duration": 1.961773,
     "end_time": "2022-09-24T16:12:45.862132",
     "exception": false,
     "start_time": "2022-09-24T16:12:43.900359",
     "status": "completed"
    },
    "tags": []
   },
   "outputs": [],
   "source": [
    "import os\n",
    "import sys\n",
    "import cv2\n",
    "import numpy as np\n",
    "from tqdm import tqdm\n",
    "import matplotlib.pyplot as plt\n",
    "\n",
    "import torch\n",
    "import torchvision\n",
    "import torch.nn.functional as F\n",
    "from torchvision import transforms as pth_transforms\n",
    "\n",
    "sys.path.append('../input/vision-transformer-scripts')\n",
    "import vision_transformer as vits"
   ]
  },
  {
   "cell_type": "code",
   "execution_count": 2,
   "id": "9acbc9e5",
   "metadata": {
    "execution": {
     "iopub.execute_input": "2022-09-24T16:12:45.870979Z",
     "iopub.status.busy": "2022-09-24T16:12:45.869338Z",
     "iopub.status.idle": "2022-09-24T16:12:45.876696Z",
     "shell.execute_reply": "2022-09-24T16:12:45.875879Z"
    },
    "papermill": {
     "duration": 0.013169,
     "end_time": "2022-09-24T16:12:45.878602",
     "exception": false,
     "start_time": "2022-09-24T16:12:45.865433",
     "status": "completed"
    },
    "tags": []
   },
   "outputs": [],
   "source": [
    "def preprocess_image(image_path, tf, patch_size):\n",
    "    # read image -> convert to RGB -> torch Tensor\n",
    "    rgb_img = cv2.cvtColor(cv2.imread(image_path), cv2.COLOR_BGR2RGB)\n",
    "    img = tf(rgb_img)\n",
    "    _, image_height, image_width = img.shape\n",
    "    \n",
    "    # make the image divisible by the patch size\n",
    "    w, h = image_width - image_width % patch_size, image_height - image_height % patch_size\n",
    "    img = img[:, :h, :w].unsqueeze(0)\n",
    "    \n",
    "    w_featmap = img.shape[-1] // patch_size\n",
    "    h_featmap = img.shape[-2] // patch_size\n",
    "    return rgb_img, img, w_featmap, h_featmap"
   ]
  },
  {
   "cell_type": "code",
   "execution_count": 3,
   "id": "d006cb74",
   "metadata": {
    "execution": {
     "iopub.execute_input": "2022-09-24T16:12:45.885399Z",
     "iopub.status.busy": "2022-09-24T16:12:45.884616Z",
     "iopub.status.idle": "2022-09-24T16:12:45.892465Z",
     "shell.execute_reply": "2022-09-24T16:12:45.891567Z"
    },
    "papermill": {
     "duration": 0.013616,
     "end_time": "2022-09-24T16:12:45.894850",
     "exception": false,
     "start_time": "2022-09-24T16:12:45.881234",
     "status": "completed"
    },
    "tags": []
   },
   "outputs": [],
   "source": [
    "def calculate_threshold_attention(attention, threshold, w_featmap, h_featmap, patch_size, mode = 'nearest'):\n",
    "    # we keep only a certain percentage of the mass\n",
    "    val, idx = torch.sort(attention)\n",
    "    val /= torch.sum(val, dim=1, keepdim=True )\n",
    "    cumval = torch.cumsum(val, dim=1)\n",
    "    th_attn = cumval > (1 - threshold)\n",
    "    idx2 = torch.argsort(idx)\n",
    "\n",
    "    # filter each head\n",
    "    nh = attention.shape[0]\n",
    "    for head in range(nh):\n",
    "        th_attn[head] = th_attn[head][idx2[head]]\n",
    "\n",
    "    # interpolate    \n",
    "    th_attn = th_attn.reshape(nh, h_featmap, w_featmap).float()\n",
    "    th_attn = F.interpolate(th_attn.unsqueeze(0), scale_factor=patch_size, mode=\"nearest\")[0].cpu().numpy()\n",
    "    return th_attn"
   ]
  },
  {
   "cell_type": "code",
   "execution_count": 4,
   "id": "2ccd6af3",
   "metadata": {
    "execution": {
     "iopub.execute_input": "2022-09-24T16:12:45.901481Z",
     "iopub.status.busy": "2022-09-24T16:12:45.900888Z",
     "iopub.status.idle": "2022-09-24T16:12:45.907911Z",
     "shell.execute_reply": "2022-09-24T16:12:45.907064Z"
    },
    "papermill": {
     "duration": 0.012585,
     "end_time": "2022-09-24T16:12:45.909934",
     "exception": false,
     "start_time": "2022-09-24T16:12:45.897349",
     "status": "completed"
    },
    "tags": []
   },
   "outputs": [],
   "source": [
    "def calculate_attentions(img, w_featmap, h_featmap, patch_size, calc_th_attn = True, threshold = 0.6, mode = 'nearest' ):\n",
    "    attentions = model.get_last_selfattention(img.to(device))\n",
    "    nh = attentions.shape[1]\n",
    "    \n",
    "    # we keep only the output patch attention\n",
    "    attentions = attentions[0, :, 0, 1:].reshape(nh, -1)\n",
    "    \n",
    "    if(calc_th_attn == True):\n",
    "        th_attn = calculate_threshold_attention(attentions, threshold, w_featmap, h_featmap, patch_size, mode = mode)\n",
    "    else:\n",
    "        th_attn = None\n",
    "\n",
    "    attentions = attentions.reshape(nh, h_featmap, w_featmap)\n",
    "    attentions = F.interpolate(attentions.unsqueeze(0), scale_factor=patch_size, mode=mode)[0].cpu().numpy()\n",
    "    return attentions, th_attn"
   ]
  },
  {
   "cell_type": "code",
   "execution_count": 5,
   "id": "33346b85",
   "metadata": {
    "execution": {
     "iopub.execute_input": "2022-09-24T16:12:45.916359Z",
     "iopub.status.busy": "2022-09-24T16:12:45.916084Z",
     "iopub.status.idle": "2022-09-24T16:12:45.920942Z",
     "shell.execute_reply": "2022-09-24T16:12:45.919991Z"
    },
    "papermill": {
     "duration": 0.010182,
     "end_time": "2022-09-24T16:12:45.922862",
     "exception": false,
     "start_time": "2022-09-24T16:12:45.912680",
     "status": "completed"
    },
    "tags": []
   },
   "outputs": [],
   "source": [
    "def get_attention_masks(image_path, model, transform, patch_size, calc_th_attn=True, threshold = 0.6, mode = 'bilinear'):\n",
    "    rgb_img, img, w_featmap, h_featmap = preprocess_image(image_path, transform, patch_size)\n",
    "    attentions, th_attn = calculate_attentions(img, w_featmap, h_featmap, patch_size, \n",
    "                               calc_th_attn = calc_th_attn, threshold = threshold, mode = mode)\n",
    "    return rgb_img, attentions, th_attn"
   ]
  },
  {
   "cell_type": "code",
   "execution_count": 6,
   "id": "d8b3eefb",
   "metadata": {
    "execution": {
     "iopub.execute_input": "2022-09-24T16:12:45.929617Z",
     "iopub.status.busy": "2022-09-24T16:12:45.928889Z",
     "iopub.status.idle": "2022-09-24T16:12:45.934670Z",
     "shell.execute_reply": "2022-09-24T16:12:45.933865Z"
    },
    "papermill": {
     "duration": 0.011148,
     "end_time": "2022-09-24T16:12:45.936569",
     "exception": false,
     "start_time": "2022-09-24T16:12:45.925421",
     "status": "completed"
    },
    "tags": []
   },
   "outputs": [],
   "source": [
    "threshold = 0.6\n",
    "patch_size = 8\n",
    "arch = 'vit_small'\n",
    "output_dir = '.'\n",
    "url = \"dino_deitsmall8_300ep_pretrain/dino_deitsmall8_300ep_pretrain.pth\"\n",
    "\n",
    "transform = pth_transforms.Compose([\n",
    "    pth_transforms.ToTensor(),\n",
    "    pth_transforms.Normalize((0.485, 0.456, 0.406), (0.229, 0.224, 0.225)),\n",
    "])"
   ]
  },
  {
   "cell_type": "code",
   "execution_count": 7,
   "id": "3e00994b",
   "metadata": {
    "execution": {
     "iopub.execute_input": "2022-09-24T16:12:45.943377Z",
     "iopub.status.busy": "2022-09-24T16:12:45.942567Z",
     "iopub.status.idle": "2022-09-24T16:12:55.341412Z",
     "shell.execute_reply": "2022-09-24T16:12:55.340288Z"
    },
    "papermill": {
     "duration": 9.405188,
     "end_time": "2022-09-24T16:12:55.344370",
     "exception": false,
     "start_time": "2022-09-24T16:12:45.939182",
     "status": "completed"
    },
    "tags": []
   },
   "outputs": [
    {
     "name": "stderr",
     "output_type": "stream",
     "text": [
      "Downloading: \"https://dl.fbaipublicfiles.com/dino/dino_deitsmall8_300ep_pretrain/dino_deitsmall8_300ep_pretrain.pth\" to /root/.cache/torch/hub/checkpoints/dino_deitsmall8_300ep_pretrain.pth\n"
     ]
    },
    {
     "data": {
      "application/vnd.jupyter.widget-view+json": {
       "model_id": "abf15841e33d43de9106e34a4bda67f0",
       "version_major": 2,
       "version_minor": 0
      },
      "text/plain": [
       "  0%|          | 0.00/82.7M [00:00<?, ?B/s]"
      ]
     },
     "metadata": {},
     "output_type": "display_data"
    },
    {
     "data": {
      "text/plain": [
       "<All keys matched successfully>"
      ]
     },
     "execution_count": 7,
     "metadata": {},
     "output_type": "execute_result"
    }
   ],
   "source": [
    "device = torch.device(\"cuda\") if torch.cuda.is_available() else torch.device(\"cpu\")\n",
    "model = vits.__dict__[arch](patch_size=patch_size, num_classes=0)\n",
    "\n",
    "for p in model.parameters():\n",
    "    p.requires_grad = False\n",
    "model.eval();\n",
    "model.to(device);\n",
    "\n",
    "state_dict = torch.hub.load_state_dict_from_url(url=\"https://dl.fbaipublicfiles.com/dino/\" + url)\n",
    "model.load_state_dict(state_dict, strict=True)"
   ]
  },
  {
   "cell_type": "code",
   "execution_count": 8,
   "id": "fa977315",
   "metadata": {
    "execution": {
     "iopub.execute_input": "2022-09-24T16:12:55.352018Z",
     "iopub.status.busy": "2022-09-24T16:12:55.351739Z",
     "iopub.status.idle": "2022-09-24T16:12:55.715318Z",
     "shell.execute_reply": "2022-09-24T16:12:55.714244Z"
    },
    "papermill": {
     "duration": 0.37003,
     "end_time": "2022-09-24T16:12:55.717758",
     "exception": false,
     "start_time": "2022-09-24T16:12:55.347728",
     "status": "completed"
    },
    "tags": []
   },
   "outputs": [],
   "source": [
    "input_dir = '../input/image-segmentation/cityScapes_256_512/demoVideo/'\n",
    "image_list = sorted(os.listdir(input_dir))\n",
    "images_path = [os.path.join(input_dir, x) for x in image_list]"
   ]
  },
  {
   "cell_type": "code",
   "execution_count": 9,
   "id": "04c33875",
   "metadata": {
    "execution": {
     "iopub.execute_input": "2022-09-24T16:12:55.726115Z",
     "iopub.status.busy": "2022-09-24T16:12:55.725111Z",
     "iopub.status.idle": "2022-09-24T16:26:29.199533Z",
     "shell.execute_reply": "2022-09-24T16:26:29.198565Z"
    },
    "papermill": {
     "duration": 813.481122,
     "end_time": "2022-09-24T16:26:29.202100",
     "exception": false,
     "start_time": "2022-09-24T16:12:55.720978",
     "status": "completed"
    },
    "tags": []
   },
   "outputs": [
    {
     "name": "stderr",
     "output_type": "stream",
     "text": [
      "100%|██████████| 599/599 [13:33<00:00,  1.36s/it]\n"
     ]
    }
   ],
   "source": [
    "%matplotlib agg\n",
    "fig, axes = plt.subplots(2,3, figsize=(25,10))\n",
    "axes = axes.flatten()\n",
    "\n",
    "for image_path in tqdm(images_path):\n",
    "    image_name = image_path.split(os.sep)[-1].split('.')[0]\n",
    "    rgb_img, attentions, th_attn = get_attention_masks(image_path, model, transform, \n",
    "                                           patch_size, calc_th_attn=False, mode = 'bilinear')\n",
    "    \n",
    "    for i in range(6):\n",
    "        axes[i].clear()\n",
    "        axes[i].imshow(rgb_img)\n",
    "        axes[i].imshow(attentions[i], cmap='inferno', alpha=0.5)\n",
    "        axes[i].axis('off')\n",
    "\n",
    "    fig.subplots_adjust(wspace=0, hspace=0)\n",
    "    fig.savefig(f'{image_name}.png')"
   ]
  },
  {
   "cell_type": "code",
   "execution_count": 10,
   "id": "8fe3efe9",
   "metadata": {
    "execution": {
     "iopub.execute_input": "2022-09-24T16:26:29.269831Z",
     "iopub.status.busy": "2022-09-24T16:26:29.269502Z",
     "iopub.status.idle": "2022-09-24T16:26:29.273915Z",
     "shell.execute_reply": "2022-09-24T16:26:29.272921Z"
    },
    "papermill": {
     "duration": 0.04026,
     "end_time": "2022-09-24T16:26:29.276049",
     "exception": false,
     "start_time": "2022-09-24T16:26:29.235789",
     "status": "completed"
    },
    "tags": []
   },
   "outputs": [],
   "source": [
    "# torchvision.utils.save_image(torchvision.utils.make_grid(img, normalize=True, scale_each=True), os.path.join(output_dir, \"img.png\"))\n",
    "# for j in range(nh):\n",
    "    \n",
    "#     fname = os.path.join(output_dir, \"attn-head\" + str(j) + \".png\")\n",
    "#     plt.imsave(fname=fname, arr=attentions[j], format='png')\n",
    "#     print(f\"{fname} saved.\")    \n",
    "    \n",
    "    \n",
    "# for j in range(nh):\n",
    "#     fname = os.path.join(output_dir, \"th_attn-head\" + str(j) + \".png\")\n",
    "#     plt.imsave(fname=fname, arr=th_attn[j], format='png')\n",
    "#     print(f\"{fname} saved.\")"
   ]
  }
 ],
 "metadata": {
  "kernelspec": {
   "display_name": "Python 3",
   "language": "python",
   "name": "python3"
  },
  "language_info": {
   "codemirror_mode": {
    "name": "ipython",
    "version": 3
   },
   "file_extension": ".py",
   "mimetype": "text/x-python",
   "name": "python",
   "nbconvert_exporter": "python",
   "pygments_lexer": "ipython3",
   "version": "3.7.12"
  },
  "papermill": {
   "default_parameters": {},
   "duration": 835.69345,
   "end_time": "2022-09-24T16:26:31.512102",
   "environment_variables": {},
   "exception": null,
   "input_path": "__notebook__.ipynb",
   "output_path": "__notebook__.ipynb",
   "parameters": {},
   "start_time": "2022-09-24T16:12:35.818652",
   "version": "2.3.4"
  },
  "widgets": {
   "application/vnd.jupyter.widget-state+json": {
    "state": {
     "0627f5e3ef8941b1acb945a0e5807a50": {
      "model_module": "@jupyter-widgets/base",
      "model_module_version": "1.2.0",
      "model_name": "LayoutModel",
      "state": {
       "_model_module": "@jupyter-widgets/base",
       "_model_module_version": "1.2.0",
       "_model_name": "LayoutModel",
       "_view_count": null,
       "_view_module": "@jupyter-widgets/base",
       "_view_module_version": "1.2.0",
       "_view_name": "LayoutView",
       "align_content": null,
       "align_items": null,
       "align_self": null,
       "border": null,
       "bottom": null,
       "display": null,
       "flex": null,
       "flex_flow": null,
       "grid_area": null,
       "grid_auto_columns": null,
       "grid_auto_flow": null,
       "grid_auto_rows": null,
       "grid_column": null,
       "grid_gap": null,
       "grid_row": null,
       "grid_template_areas": null,
       "grid_template_columns": null,
       "grid_template_rows": null,
       "height": null,
       "justify_content": null,
       "justify_items": null,
       "left": null,
       "margin": null,
       "max_height": null,
       "max_width": null,
       "min_height": null,
       "min_width": null,
       "object_fit": null,
       "object_position": null,
       "order": null,
       "overflow": null,
       "overflow_x": null,
       "overflow_y": null,
       "padding": null,
       "right": null,
       "top": null,
       "visibility": null,
       "width": null
      }
     },
     "0840224beb5a41d190aba187cdf58d19": {
      "model_module": "@jupyter-widgets/controls",
      "model_module_version": "1.5.0",
      "model_name": "DescriptionStyleModel",
      "state": {
       "_model_module": "@jupyter-widgets/controls",
       "_model_module_version": "1.5.0",
       "_model_name": "DescriptionStyleModel",
       "_view_count": null,
       "_view_module": "@jupyter-widgets/base",
       "_view_module_version": "1.2.0",
       "_view_name": "StyleView",
       "description_width": ""
      }
     },
     "22d1212a50e64a9a9a6d1bf919bb4f17": {
      "model_module": "@jupyter-widgets/base",
      "model_module_version": "1.2.0",
      "model_name": "LayoutModel",
      "state": {
       "_model_module": "@jupyter-widgets/base",
       "_model_module_version": "1.2.0",
       "_model_name": "LayoutModel",
       "_view_count": null,
       "_view_module": "@jupyter-widgets/base",
       "_view_module_version": "1.2.0",
       "_view_name": "LayoutView",
       "align_content": null,
       "align_items": null,
       "align_self": null,
       "border": null,
       "bottom": null,
       "display": null,
       "flex": null,
       "flex_flow": null,
       "grid_area": null,
       "grid_auto_columns": null,
       "grid_auto_flow": null,
       "grid_auto_rows": null,
       "grid_column": null,
       "grid_gap": null,
       "grid_row": null,
       "grid_template_areas": null,
       "grid_template_columns": null,
       "grid_template_rows": null,
       "height": null,
       "justify_content": null,
       "justify_items": null,
       "left": null,
       "margin": null,
       "max_height": null,
       "max_width": null,
       "min_height": null,
       "min_width": null,
       "object_fit": null,
       "object_position": null,
       "order": null,
       "overflow": null,
       "overflow_x": null,
       "overflow_y": null,
       "padding": null,
       "right": null,
       "top": null,
       "visibility": null,
       "width": null
      }
     },
     "3b516286fbb5484591a49ca00c92b72c": {
      "model_module": "@jupyter-widgets/controls",
      "model_module_version": "1.5.0",
      "model_name": "HTMLModel",
      "state": {
       "_dom_classes": [],
       "_model_module": "@jupyter-widgets/controls",
       "_model_module_version": "1.5.0",
       "_model_name": "HTMLModel",
       "_view_count": null,
       "_view_module": "@jupyter-widgets/controls",
       "_view_module_version": "1.5.0",
       "_view_name": "HTMLView",
       "description": "",
       "description_tooltip": null,
       "layout": "IPY_MODEL_bbb4336440684050b16fe18159b14125",
       "placeholder": "​",
       "style": "IPY_MODEL_463e6e2e30fa416d99c60ed118e30d07",
       "value": " 82.7M/82.7M [00:04&lt;00:00, 22.6MB/s]"
      }
     },
     "463e6e2e30fa416d99c60ed118e30d07": {
      "model_module": "@jupyter-widgets/controls",
      "model_module_version": "1.5.0",
      "model_name": "DescriptionStyleModel",
      "state": {
       "_model_module": "@jupyter-widgets/controls",
       "_model_module_version": "1.5.0",
       "_model_name": "DescriptionStyleModel",
       "_view_count": null,
       "_view_module": "@jupyter-widgets/base",
       "_view_module_version": "1.2.0",
       "_view_name": "StyleView",
       "description_width": ""
      }
     },
     "741cc51ee2bd416ead4aa8c3f2199a41": {
      "model_module": "@jupyter-widgets/controls",
      "model_module_version": "1.5.0",
      "model_name": "HTMLModel",
      "state": {
       "_dom_classes": [],
       "_model_module": "@jupyter-widgets/controls",
       "_model_module_version": "1.5.0",
       "_model_name": "HTMLModel",
       "_view_count": null,
       "_view_module": "@jupyter-widgets/controls",
       "_view_module_version": "1.5.0",
       "_view_name": "HTMLView",
       "description": "",
       "description_tooltip": null,
       "layout": "IPY_MODEL_89b6a9b9b437418c879a0cf5500c57e1",
       "placeholder": "​",
       "style": "IPY_MODEL_0840224beb5a41d190aba187cdf58d19",
       "value": "100%"
      }
     },
     "89b6a9b9b437418c879a0cf5500c57e1": {
      "model_module": "@jupyter-widgets/base",
      "model_module_version": "1.2.0",
      "model_name": "LayoutModel",
      "state": {
       "_model_module": "@jupyter-widgets/base",
       "_model_module_version": "1.2.0",
       "_model_name": "LayoutModel",
       "_view_count": null,
       "_view_module": "@jupyter-widgets/base",
       "_view_module_version": "1.2.0",
       "_view_name": "LayoutView",
       "align_content": null,
       "align_items": null,
       "align_self": null,
       "border": null,
       "bottom": null,
       "display": null,
       "flex": null,
       "flex_flow": null,
       "grid_area": null,
       "grid_auto_columns": null,
       "grid_auto_flow": null,
       "grid_auto_rows": null,
       "grid_column": null,
       "grid_gap": null,
       "grid_row": null,
       "grid_template_areas": null,
       "grid_template_columns": null,
       "grid_template_rows": null,
       "height": null,
       "justify_content": null,
       "justify_items": null,
       "left": null,
       "margin": null,
       "max_height": null,
       "max_width": null,
       "min_height": null,
       "min_width": null,
       "object_fit": null,
       "object_position": null,
       "order": null,
       "overflow": null,
       "overflow_x": null,
       "overflow_y": null,
       "padding": null,
       "right": null,
       "top": null,
       "visibility": null,
       "width": null
      }
     },
     "abf15841e33d43de9106e34a4bda67f0": {
      "model_module": "@jupyter-widgets/controls",
      "model_module_version": "1.5.0",
      "model_name": "HBoxModel",
      "state": {
       "_dom_classes": [],
       "_model_module": "@jupyter-widgets/controls",
       "_model_module_version": "1.5.0",
       "_model_name": "HBoxModel",
       "_view_count": null,
       "_view_module": "@jupyter-widgets/controls",
       "_view_module_version": "1.5.0",
       "_view_name": "HBoxView",
       "box_style": "",
       "children": [
        "IPY_MODEL_741cc51ee2bd416ead4aa8c3f2199a41",
        "IPY_MODEL_f97e8b47fd964089be1b006991ad34b2",
        "IPY_MODEL_3b516286fbb5484591a49ca00c92b72c"
       ],
       "layout": "IPY_MODEL_22d1212a50e64a9a9a6d1bf919bb4f17"
      }
     },
     "bbb4336440684050b16fe18159b14125": {
      "model_module": "@jupyter-widgets/base",
      "model_module_version": "1.2.0",
      "model_name": "LayoutModel",
      "state": {
       "_model_module": "@jupyter-widgets/base",
       "_model_module_version": "1.2.0",
       "_model_name": "LayoutModel",
       "_view_count": null,
       "_view_module": "@jupyter-widgets/base",
       "_view_module_version": "1.2.0",
       "_view_name": "LayoutView",
       "align_content": null,
       "align_items": null,
       "align_self": null,
       "border": null,
       "bottom": null,
       "display": null,
       "flex": null,
       "flex_flow": null,
       "grid_area": null,
       "grid_auto_columns": null,
       "grid_auto_flow": null,
       "grid_auto_rows": null,
       "grid_column": null,
       "grid_gap": null,
       "grid_row": null,
       "grid_template_areas": null,
       "grid_template_columns": null,
       "grid_template_rows": null,
       "height": null,
       "justify_content": null,
       "justify_items": null,
       "left": null,
       "margin": null,
       "max_height": null,
       "max_width": null,
       "min_height": null,
       "min_width": null,
       "object_fit": null,
       "object_position": null,
       "order": null,
       "overflow": null,
       "overflow_x": null,
       "overflow_y": null,
       "padding": null,
       "right": null,
       "top": null,
       "visibility": null,
       "width": null
      }
     },
     "c268cf55a7a94bd8a11c8cc28c78e300": {
      "model_module": "@jupyter-widgets/controls",
      "model_module_version": "1.5.0",
      "model_name": "ProgressStyleModel",
      "state": {
       "_model_module": "@jupyter-widgets/controls",
       "_model_module_version": "1.5.0",
       "_model_name": "ProgressStyleModel",
       "_view_count": null,
       "_view_module": "@jupyter-widgets/base",
       "_view_module_version": "1.2.0",
       "_view_name": "StyleView",
       "bar_color": null,
       "description_width": ""
      }
     },
     "f97e8b47fd964089be1b006991ad34b2": {
      "model_module": "@jupyter-widgets/controls",
      "model_module_version": "1.5.0",
      "model_name": "FloatProgressModel",
      "state": {
       "_dom_classes": [],
       "_model_module": "@jupyter-widgets/controls",
       "_model_module_version": "1.5.0",
       "_model_name": "FloatProgressModel",
       "_view_count": null,
       "_view_module": "@jupyter-widgets/controls",
       "_view_module_version": "1.5.0",
       "_view_name": "ProgressView",
       "bar_style": "success",
       "description": "",
       "description_tooltip": null,
       "layout": "IPY_MODEL_0627f5e3ef8941b1acb945a0e5807a50",
       "max": 86728949.0,
       "min": 0.0,
       "orientation": "horizontal",
       "style": "IPY_MODEL_c268cf55a7a94bd8a11c8cc28c78e300",
       "value": 86728949.0
      }
     }
    },
    "version_major": 2,
    "version_minor": 0
   }
  }
 },
 "nbformat": 4,
 "nbformat_minor": 5
}
