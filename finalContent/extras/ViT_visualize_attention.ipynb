{
 "cells": [
  {
   "cell_type": "code",
   "execution_count": 1,
   "id": "dc3af8e1",
   "metadata": {
    "execution": {
     "iopub.execute_input": "2022-10-15T13:57:12.820512Z",
     "iopub.status.busy": "2022-10-15T13:57:12.819874Z",
     "iopub.status.idle": "2022-10-15T13:57:15.040621Z",
     "shell.execute_reply": "2022-10-15T13:57:15.039508Z"
    },
    "papermill": {
     "duration": 2.234053,
     "end_time": "2022-10-15T13:57:15.043850",
     "exception": false,
     "start_time": "2022-10-15T13:57:12.809797",
     "status": "completed"
    },
    "tags": []
   },
   "outputs": [],
   "source": [
    "import os\n",
    "import sys\n",
    "import cv2\n",
    "import numpy as np\n",
    "from tqdm import tqdm\n",
    "import matplotlib.pyplot as plt\n",
    "\n",
    "import torch\n",
    "import torchvision\n",
    "import torch.nn.functional as F\n",
    "from torchvision import transforms as pth_transforms\n",
    "\n",
    "sys.path.append('../input/vision-transformer-scripts')\n",
    "import vision_transformer as vits"
   ]
  },
  {
   "cell_type": "code",
   "execution_count": 2,
   "id": "c79bd08b",
   "metadata": {
    "execution": {
     "iopub.execute_input": "2022-10-15T13:57:15.056807Z",
     "iopub.status.busy": "2022-10-15T13:57:15.056298Z",
     "iopub.status.idle": "2022-10-15T13:57:15.064243Z",
     "shell.execute_reply": "2022-10-15T13:57:15.063346Z"
    },
    "papermill": {
     "duration": 0.017613,
     "end_time": "2022-10-15T13:57:15.067621",
     "exception": false,
     "start_time": "2022-10-15T13:57:15.050008",
     "status": "completed"
    },
    "tags": []
   },
   "outputs": [],
   "source": [
    "def preprocess_image(image_path, tf, patch_size):\n",
    "    # read image -> convert to RGB -> torch Tensor\n",
    "    rgb_img = cv2.cvtColor(cv2.imread(image_path), cv2.COLOR_BGR2RGB)\n",
    "    img = tf(rgb_img)\n",
    "    _, image_height, image_width = img.shape\n",
    "    \n",
    "    # make the image divisible by the patch size\n",
    "    w, h = image_width - image_width % patch_size, image_height - image_height % patch_size\n",
    "    img = img[:, :h, :w].unsqueeze(0)\n",
    "    \n",
    "    w_featmap = img.shape[-1] // patch_size\n",
    "    h_featmap = img.shape[-2] // patch_size\n",
    "    return rgb_img, img, w_featmap, h_featmap"
   ]
  },
  {
   "cell_type": "code",
   "execution_count": 3,
   "id": "89d3d164",
   "metadata": {
    "execution": {
     "iopub.execute_input": "2022-10-15T13:57:15.079149Z",
     "iopub.status.busy": "2022-10-15T13:57:15.078827Z",
     "iopub.status.idle": "2022-10-15T13:57:15.088807Z",
     "shell.execute_reply": "2022-10-15T13:57:15.087647Z"
    },
    "papermill": {
     "duration": 0.01886,
     "end_time": "2022-10-15T13:57:15.091662",
     "exception": false,
     "start_time": "2022-10-15T13:57:15.072802",
     "status": "completed"
    },
    "tags": []
   },
   "outputs": [],
   "source": [
    "def calculate_threshold_attention(attention, threshold, w_featmap, h_featmap, patch_size, mode = 'nearest'):\n",
    "    # we keep only a certain percentage of the mass\n",
    "    val, idx = torch.sort(attention)\n",
    "    val /= torch.sum(val, dim=1, keepdim=True )\n",
    "    cumval = torch.cumsum(val, dim=1)\n",
    "    th_attn = cumval > (1 - threshold)\n",
    "    idx2 = torch.argsort(idx)\n",
    "\n",
    "    # filter each head\n",
    "    nh = attention.shape[0]\n",
    "    for head in range(nh):\n",
    "        th_attn[head] = th_attn[head][idx2[head]]\n",
    "\n",
    "    # interpolate    \n",
    "    th_attn = th_attn.reshape(nh, h_featmap, w_featmap).float()\n",
    "    th_attn = F.interpolate(th_attn.unsqueeze(0), scale_factor=patch_size, mode=\"nearest\")[0].cpu().numpy()\n",
    "    return th_attn"
   ]
  },
  {
   "cell_type": "code",
   "execution_count": 4,
   "id": "e4316ca8",
   "metadata": {
    "execution": {
     "iopub.execute_input": "2022-10-15T13:57:15.102879Z",
     "iopub.status.busy": "2022-10-15T13:57:15.102447Z",
     "iopub.status.idle": "2022-10-15T13:57:15.112561Z",
     "shell.execute_reply": "2022-10-15T13:57:15.111618Z"
    },
    "papermill": {
     "duration": 0.018542,
     "end_time": "2022-10-15T13:57:15.115265",
     "exception": false,
     "start_time": "2022-10-15T13:57:15.096723",
     "status": "completed"
    },
    "tags": []
   },
   "outputs": [],
   "source": [
    "def calculate_attentions(img, w_featmap, h_featmap, patch_size, calc_th_attn = True, threshold = 0.6, mode = 'nearest' ):\n",
    "    attentions = model.get_last_selfattention(img.to(device))\n",
    "    nh = attentions.shape[1]\n",
    "    \n",
    "    # we keep only the output patch attention\n",
    "    attentions = attentions[0, :, 0, 1:].reshape(nh, -1)\n",
    "    \n",
    "    if(calc_th_attn == True):\n",
    "        th_attn = calculate_threshold_attention(attentions, threshold, w_featmap, h_featmap, patch_size, mode = mode)\n",
    "    else:\n",
    "        th_attn = None\n",
    "\n",
    "    attentions = attentions.reshape(nh, h_featmap, w_featmap)\n",
    "    attentions = F.interpolate(attentions.unsqueeze(0), scale_factor=patch_size, mode=mode)[0].cpu().numpy()\n",
    "    return attentions, th_attn"
   ]
  },
  {
   "cell_type": "code",
   "execution_count": 5,
   "id": "deec13e0",
   "metadata": {
    "execution": {
     "iopub.execute_input": "2022-10-15T13:57:15.126313Z",
     "iopub.status.busy": "2022-10-15T13:57:15.125918Z",
     "iopub.status.idle": "2022-10-15T13:57:15.132244Z",
     "shell.execute_reply": "2022-10-15T13:57:15.131147Z"
    },
    "papermill": {
     "duration": 0.015234,
     "end_time": "2022-10-15T13:57:15.135397",
     "exception": false,
     "start_time": "2022-10-15T13:57:15.120163",
     "status": "completed"
    },
    "tags": []
   },
   "outputs": [],
   "source": [
    "def get_attention_masks(image_path, model, transform, patch_size, calc_th_attn=True, threshold = 0.6, mode = 'bilinear'):\n",
    "    rgb_img, img, w_featmap, h_featmap = preprocess_image(image_path, transform, patch_size)\n",
    "    attentions, th_attn = calculate_attentions(img, w_featmap, h_featmap, patch_size, \n",
    "                               calc_th_attn = calc_th_attn, threshold = threshold, mode = mode)\n",
    "    return rgb_img, attentions, th_attn"
   ]
  },
  {
   "cell_type": "code",
   "execution_count": 6,
   "id": "699cf05a",
   "metadata": {
    "execution": {
     "iopub.execute_input": "2022-10-15T13:57:15.146478Z",
     "iopub.status.busy": "2022-10-15T13:57:15.146061Z",
     "iopub.status.idle": "2022-10-15T13:57:15.152128Z",
     "shell.execute_reply": "2022-10-15T13:57:15.151019Z"
    },
    "papermill": {
     "duration": 0.014889,
     "end_time": "2022-10-15T13:57:15.155287",
     "exception": false,
     "start_time": "2022-10-15T13:57:15.140398",
     "status": "completed"
    },
    "tags": []
   },
   "outputs": [],
   "source": [
    "threshold = 0.6\n",
    "patch_size = 8\n",
    "arch = 'vit_small'\n",
    "output_dir = '.'\n",
    "url = \"dino_deitsmall8_300ep_pretrain/dino_deitsmall8_300ep_pretrain.pth\"\n",
    "\n",
    "transform = pth_transforms.Compose([\n",
    "    pth_transforms.ToTensor(),\n",
    "    pth_transforms.Normalize((0.485, 0.456, 0.406), (0.229, 0.224, 0.225)),\n",
    "])"
   ]
  },
  {
   "cell_type": "code",
   "execution_count": 7,
   "id": "f80fc470",
   "metadata": {
    "execution": {
     "iopub.execute_input": "2022-10-15T13:57:15.166069Z",
     "iopub.status.busy": "2022-10-15T13:57:15.165677Z",
     "iopub.status.idle": "2022-10-15T13:57:20.203401Z",
     "shell.execute_reply": "2022-10-15T13:57:20.202297Z"
    },
    "papermill": {
     "duration": 5.046042,
     "end_time": "2022-10-15T13:57:20.206118",
     "exception": false,
     "start_time": "2022-10-15T13:57:15.160076",
     "status": "completed"
    },
    "tags": []
   },
   "outputs": [
    {
     "name": "stderr",
     "output_type": "stream",
     "text": [
      "Downloading: \"https://dl.fbaipublicfiles.com/dino/dino_deitsmall8_300ep_pretrain/dino_deitsmall8_300ep_pretrain.pth\" to /root/.cache/torch/hub/checkpoints/dino_deitsmall8_300ep_pretrain.pth\n"
     ]
    },
    {
     "data": {
      "application/vnd.jupyter.widget-view+json": {
       "model_id": "10cad35d61064c4ba0169bdb14489257",
       "version_major": 2,
       "version_minor": 0
      },
      "text/plain": [
       "  0%|          | 0.00/82.7M [00:00<?, ?B/s]"
      ]
     },
     "metadata": {},
     "output_type": "display_data"
    },
    {
     "data": {
      "text/plain": [
       "<All keys matched successfully>"
      ]
     },
     "execution_count": 7,
     "metadata": {},
     "output_type": "execute_result"
    }
   ],
   "source": [
    "device = torch.device(\"cuda\") if torch.cuda.is_available() else torch.device(\"cpu\")\n",
    "model = vits.__dict__[arch](patch_size=patch_size, num_classes=0)\n",
    "\n",
    "for p in model.parameters():\n",
    "    p.requires_grad = False\n",
    "model.eval();\n",
    "model.to(device);\n",
    "\n",
    "state_dict = torch.hub.load_state_dict_from_url(url=\"https://dl.fbaipublicfiles.com/dino/\" + url)\n",
    "model.load_state_dict(state_dict, strict=True)"
   ]
  },
  {
   "cell_type": "code",
   "execution_count": 8,
   "id": "80171f32",
   "metadata": {
    "execution": {
     "iopub.execute_input": "2022-10-15T13:57:20.215200Z",
     "iopub.status.busy": "2022-10-15T13:57:20.214903Z",
     "iopub.status.idle": "2022-10-15T13:57:20.275777Z",
     "shell.execute_reply": "2022-10-15T13:57:20.274898Z"
    },
    "papermill": {
     "duration": 0.067727,
     "end_time": "2022-10-15T13:57:20.277906",
     "exception": false,
     "start_time": "2022-10-15T13:57:20.210179",
     "status": "completed"
    },
    "tags": []
   },
   "outputs": [],
   "source": [
    "input_dir = '../input/image-segmentation/cityScapes_256_512/demoVideo/'\n",
    "image_list = sorted(os.listdir(input_dir))\n",
    "images_path = [os.path.join(input_dir, x) for x in image_list]"
   ]
  },
  {
   "cell_type": "code",
   "execution_count": 9,
   "id": "82b7e4ac",
   "metadata": {
    "execution": {
     "iopub.execute_input": "2022-10-15T13:57:20.287795Z",
     "iopub.status.busy": "2022-10-15T13:57:20.286803Z",
     "iopub.status.idle": "2022-10-15T13:57:20.292370Z",
     "shell.execute_reply": "2022-10-15T13:57:20.291498Z"
    },
    "papermill": {
     "duration": 0.012478,
     "end_time": "2022-10-15T13:57:20.294354",
     "exception": false,
     "start_time": "2022-10-15T13:57:20.281876",
     "status": "completed"
    },
    "tags": []
   },
   "outputs": [],
   "source": [
    "font = {'family' : 'normal', 'weight' : 'bold', 'size'   : 9}\n",
    "plt.rc('font', **font)\n",
    "plt.rcParams['text.color'] = 'white'"
   ]
  },
  {
   "cell_type": "code",
   "execution_count": 10,
   "id": "4e0c42e4",
   "metadata": {
    "execution": {
     "iopub.execute_input": "2022-10-15T13:57:20.303669Z",
     "iopub.status.busy": "2022-10-15T13:57:20.302862Z",
     "iopub.status.idle": "2022-10-15T14:09:26.906974Z",
     "shell.execute_reply": "2022-10-15T14:09:26.905817Z"
    },
    "papermill": {
     "duration": 726.61271,
     "end_time": "2022-10-15T14:09:26.910963",
     "exception": false,
     "start_time": "2022-10-15T13:57:20.298253",
     "status": "completed"
    },
    "tags": []
   },
   "outputs": [
    {
     "name": "stderr",
     "output_type": "stream",
     "text": [
      "100%|██████████| 599/599 [12:06<00:00,  1.21s/it]\n"
     ]
    }
   ],
   "source": [
    "%matplotlib agg\n",
    "fig, axes = plt.subplots(2,3, figsize=(20,6.71))\n",
    "axes = axes.flatten()\n",
    "\n",
    "for image_path in tqdm(images_path):\n",
    "    image_name = image_path.split(os.sep)[-1].split('.')[0]\n",
    "    rgb_img, attentions, th_attn = get_attention_masks(image_path, model, transform, \n",
    "                                           patch_size, calc_th_attn=False, mode = 'bilinear')\n",
    "    \n",
    "    for i in range(6):\n",
    "        axes[i].clear()\n",
    "        axes[i].imshow(rgb_img)\n",
    "        axes[i].imshow(attentions[i], cmap='inferno', alpha=0.5)\n",
    "        axes[i].axis('off')\n",
    "        axes[i].set_title(f\"ATTENTION HEAD {i+1}\", x= 0.19, y=0.9, va=\"top\");\n",
    "\n",
    "    fig.subplots_adjust(wspace=0, hspace=0)\n",
    "    fig.savefig(f'{image_name}.png', bbox_inches='tight')"
   ]
  },
  {
   "cell_type": "code",
   "execution_count": 11,
   "id": "e7af2749",
   "metadata": {
    "execution": {
     "iopub.execute_input": "2022-10-15T14:09:26.980320Z",
     "iopub.status.busy": "2022-10-15T14:09:26.979460Z",
     "iopub.status.idle": "2022-10-15T14:09:26.988029Z",
     "shell.execute_reply": "2022-10-15T14:09:26.986973Z"
    },
    "papermill": {
     "duration": 0.045117,
     "end_time": "2022-10-15T14:09:26.990360",
     "exception": false,
     "start_time": "2022-10-15T14:09:26.945243",
     "status": "completed"
    },
    "tags": []
   },
   "outputs": [],
   "source": [
    "def convert_images_to_video(images_dir, output_video_path, fps : int = 20):\n",
    "    \n",
    "    input_images = [os.path.join(images_dir, *[x]) for x in sorted(os.listdir(images_dir)) if x.endswith('png')]\n",
    "    \n",
    "    if(len(input_images) > 0):\n",
    "        sample_image = cv2.imread(input_images[0])\n",
    "        height, width, _ = sample_image.shape\n",
    "        \n",
    "        # handles for input output videos\n",
    "        output_handle = cv2.VideoWriter(output_video_path, cv2.VideoWriter_fourcc(*'DIVX'), fps, (width, height))\n",
    "\n",
    "        # create progress bar\n",
    "        num_frames = int(len(input_images))\n",
    "        pbar = tqdm(total = num_frames, position=0, leave=True)\n",
    "\n",
    "        for i in tqdm(range(num_frames), position=0, leave=True):\n",
    "            frame = cv2.imread(input_images[i])\n",
    "            output_handle.write(frame)\n",
    "            pbar.update(1)\n",
    "\n",
    "        # release the output video handler\n",
    "        output_handle.release()\n",
    "                \n",
    "    else:\n",
    "        pass"
   ]
  },
  {
   "cell_type": "code",
   "execution_count": 12,
   "id": "0343843e",
   "metadata": {
    "execution": {
     "iopub.execute_input": "2022-10-15T14:09:27.057793Z",
     "iopub.status.busy": "2022-10-15T14:09:27.056952Z",
     "iopub.status.idle": "2022-10-15T14:09:27.061810Z",
     "shell.execute_reply": "2022-10-15T14:09:27.060978Z"
    },
    "papermill": {
     "duration": 0.040336,
     "end_time": "2022-10-15T14:09:27.063767",
     "exception": false,
     "start_time": "2022-10-15T14:09:27.023431",
     "status": "completed"
    },
    "tags": []
   },
   "outputs": [],
   "source": [
    "def createDir(dirPath):\n",
    "    if(not os.path.isdir(dirPath)):\n",
    "        os.mkdir(dirPath)"
   ]
  },
  {
   "cell_type": "code",
   "execution_count": 13,
   "id": "e66aaeae",
   "metadata": {
    "execution": {
     "iopub.execute_input": "2022-10-15T14:09:27.130419Z",
     "iopub.status.busy": "2022-10-15T14:09:27.129634Z",
     "iopub.status.idle": "2022-10-15T14:09:27.136081Z",
     "shell.execute_reply": "2022-10-15T14:09:27.134532Z"
    },
    "papermill": {
     "duration": 0.042447,
     "end_time": "2022-10-15T14:09:27.138441",
     "exception": false,
     "start_time": "2022-10-15T14:09:27.095994",
     "status": "completed"
    },
    "tags": []
   },
   "outputs": [
    {
     "name": "stdout",
     "output_type": "stream",
     "text": [
      "./videos/Vit_last_stage_demoVideo.mp4\n"
     ]
    }
   ],
   "source": [
    "video_output_dir = os.path.join(output_dir, *['videos'])\n",
    "createDir(video_output_dir)\n",
    "output_video_path = os.path.join(video_output_dir, *[\"Vit_last_stage_demoVideo.mp4\"])\n",
    "print(output_video_path)"
   ]
  },
  {
   "cell_type": "code",
   "execution_count": 14,
   "id": "4dc6074a",
   "metadata": {
    "execution": {
     "iopub.execute_input": "2022-10-15T14:09:27.206064Z",
     "iopub.status.busy": "2022-10-15T14:09:27.205495Z",
     "iopub.status.idle": "2022-10-15T14:09:51.756303Z",
     "shell.execute_reply": "2022-10-15T14:09:51.754791Z"
    },
    "papermill": {
     "duration": 24.587187,
     "end_time": "2022-10-15T14:09:51.758872",
     "exception": false,
     "start_time": "2022-10-15T14:09:27.171685",
     "status": "completed"
    },
    "tags": []
   },
   "outputs": [
    {
     "name": "stderr",
     "output_type": "stream",
     "text": [
      "OpenCV: FFMPEG: tag 0x58564944/'DIVX' is not supported with codec id 12 and format 'mp4 / MP4 (MPEG-4 Part 14)'\n",
      "OpenCV: FFMPEG: fallback to use tag 0x7634706d/'mp4v'\n",
      "100%|██████████| 599/599 [00:24<00:00, 24.49it/s]\n",
      "100%|██████████| 599/599 [00:24<00:00, 24.49it/s]\n"
     ]
    }
   ],
   "source": [
    "convert_images_to_video('./', output_video_path, fps=20)"
   ]
  },
  {
   "cell_type": "code",
   "execution_count": null,
   "id": "f735a914",
   "metadata": {
    "papermill": {
     "duration": 0.053657,
     "end_time": "2022-10-15T14:09:51.866285",
     "exception": false,
     "start_time": "2022-10-15T14:09:51.812628",
     "status": "completed"
    },
    "tags": []
   },
   "outputs": [],
   "source": []
  }
 ],
 "metadata": {
  "kernelspec": {
   "display_name": "Python 3",
   "language": "python",
   "name": "python3"
  },
  "language_info": {
   "codemirror_mode": {
    "name": "ipython",
    "version": 3
   },
   "file_extension": ".py",
   "mimetype": "text/x-python",
   "name": "python",
   "nbconvert_exporter": "python",
   "pygments_lexer": "ipython3",
   "version": "3.7.12"
  },
  "papermill": {
   "default_parameters": {},
   "duration": 768.268918,
   "end_time": "2022-10-15T14:09:53.344729",
   "environment_variables": {},
   "exception": null,
   "input_path": "__notebook__.ipynb",
   "output_path": "__notebook__.ipynb",
   "parameters": {},
   "start_time": "2022-10-15T13:57:05.075811",
   "version": "2.3.4"
  },
  "widgets": {
   "application/vnd.jupyter.widget-state+json": {
    "state": {
     "02a280d23bfb48f589cffb29e8223c3d": {
      "model_module": "@jupyter-widgets/controls",
      "model_module_version": "1.5.0",
      "model_name": "DescriptionStyleModel",
      "state": {
       "_model_module": "@jupyter-widgets/controls",
       "_model_module_version": "1.5.0",
       "_model_name": "DescriptionStyleModel",
       "_view_count": null,
       "_view_module": "@jupyter-widgets/base",
       "_view_module_version": "1.2.0",
       "_view_name": "StyleView",
       "description_width": ""
      }
     },
     "05d54d6975204c9c8e01306bd12aec6b": {
      "model_module": "@jupyter-widgets/controls",
      "model_module_version": "1.5.0",
      "model_name": "DescriptionStyleModel",
      "state": {
       "_model_module": "@jupyter-widgets/controls",
       "_model_module_version": "1.5.0",
       "_model_name": "DescriptionStyleModel",
       "_view_count": null,
       "_view_module": "@jupyter-widgets/base",
       "_view_module_version": "1.2.0",
       "_view_name": "StyleView",
       "description_width": ""
      }
     },
     "10cad35d61064c4ba0169bdb14489257": {
      "model_module": "@jupyter-widgets/controls",
      "model_module_version": "1.5.0",
      "model_name": "HBoxModel",
      "state": {
       "_dom_classes": [],
       "_model_module": "@jupyter-widgets/controls",
       "_model_module_version": "1.5.0",
       "_model_name": "HBoxModel",
       "_view_count": null,
       "_view_module": "@jupyter-widgets/controls",
       "_view_module_version": "1.5.0",
       "_view_name": "HBoxView",
       "box_style": "",
       "children": [
        "IPY_MODEL_afde274ad08b4154b4f989c7da70e73a",
        "IPY_MODEL_3c3f4cfd1df34249ab4287f38927d223",
        "IPY_MODEL_48c33e7b9e4647858bdf7ff79e844c0c"
       ],
       "layout": "IPY_MODEL_e293726739004dd6800b89442d0979d6"
      }
     },
     "3c3f4cfd1df34249ab4287f38927d223": {
      "model_module": "@jupyter-widgets/controls",
      "model_module_version": "1.5.0",
      "model_name": "FloatProgressModel",
      "state": {
       "_dom_classes": [],
       "_model_module": "@jupyter-widgets/controls",
       "_model_module_version": "1.5.0",
       "_model_name": "FloatProgressModel",
       "_view_count": null,
       "_view_module": "@jupyter-widgets/controls",
       "_view_module_version": "1.5.0",
       "_view_name": "ProgressView",
       "bar_style": "success",
       "description": "",
       "description_tooltip": null,
       "layout": "IPY_MODEL_6143b80881d646ca8a3b2bc4e6c30a26",
       "max": 86728949.0,
       "min": 0.0,
       "orientation": "horizontal",
       "style": "IPY_MODEL_a5f7d538033e45ba98783861ebb63558",
       "value": 86728949.0
      }
     },
     "48c33e7b9e4647858bdf7ff79e844c0c": {
      "model_module": "@jupyter-widgets/controls",
      "model_module_version": "1.5.0",
      "model_name": "HTMLModel",
      "state": {
       "_dom_classes": [],
       "_model_module": "@jupyter-widgets/controls",
       "_model_module_version": "1.5.0",
       "_model_name": "HTMLModel",
       "_view_count": null,
       "_view_module": "@jupyter-widgets/controls",
       "_view_module_version": "1.5.0",
       "_view_name": "HTMLView",
       "description": "",
       "description_tooltip": null,
       "layout": "IPY_MODEL_79edfffc85274d0c9ce458f8f682eb8a",
       "placeholder": "​",
       "style": "IPY_MODEL_05d54d6975204c9c8e01306bd12aec6b",
       "value": " 82.7M/82.7M [00:01&lt;00:00, 66.4MB/s]"
      }
     },
     "6143b80881d646ca8a3b2bc4e6c30a26": {
      "model_module": "@jupyter-widgets/base",
      "model_module_version": "1.2.0",
      "model_name": "LayoutModel",
      "state": {
       "_model_module": "@jupyter-widgets/base",
       "_model_module_version": "1.2.0",
       "_model_name": "LayoutModel",
       "_view_count": null,
       "_view_module": "@jupyter-widgets/base",
       "_view_module_version": "1.2.0",
       "_view_name": "LayoutView",
       "align_content": null,
       "align_items": null,
       "align_self": null,
       "border": null,
       "bottom": null,
       "display": null,
       "flex": null,
       "flex_flow": null,
       "grid_area": null,
       "grid_auto_columns": null,
       "grid_auto_flow": null,
       "grid_auto_rows": null,
       "grid_column": null,
       "grid_gap": null,
       "grid_row": null,
       "grid_template_areas": null,
       "grid_template_columns": null,
       "grid_template_rows": null,
       "height": null,
       "justify_content": null,
       "justify_items": null,
       "left": null,
       "margin": null,
       "max_height": null,
       "max_width": null,
       "min_height": null,
       "min_width": null,
       "object_fit": null,
       "object_position": null,
       "order": null,
       "overflow": null,
       "overflow_x": null,
       "overflow_y": null,
       "padding": null,
       "right": null,
       "top": null,
       "visibility": null,
       "width": null
      }
     },
     "79edfffc85274d0c9ce458f8f682eb8a": {
      "model_module": "@jupyter-widgets/base",
      "model_module_version": "1.2.0",
      "model_name": "LayoutModel",
      "state": {
       "_model_module": "@jupyter-widgets/base",
       "_model_module_version": "1.2.0",
       "_model_name": "LayoutModel",
       "_view_count": null,
       "_view_module": "@jupyter-widgets/base",
       "_view_module_version": "1.2.0",
       "_view_name": "LayoutView",
       "align_content": null,
       "align_items": null,
       "align_self": null,
       "border": null,
       "bottom": null,
       "display": null,
       "flex": null,
       "flex_flow": null,
       "grid_area": null,
       "grid_auto_columns": null,
       "grid_auto_flow": null,
       "grid_auto_rows": null,
       "grid_column": null,
       "grid_gap": null,
       "grid_row": null,
       "grid_template_areas": null,
       "grid_template_columns": null,
       "grid_template_rows": null,
       "height": null,
       "justify_content": null,
       "justify_items": null,
       "left": null,
       "margin": null,
       "max_height": null,
       "max_width": null,
       "min_height": null,
       "min_width": null,
       "object_fit": null,
       "object_position": null,
       "order": null,
       "overflow": null,
       "overflow_x": null,
       "overflow_y": null,
       "padding": null,
       "right": null,
       "top": null,
       "visibility": null,
       "width": null
      }
     },
     "a5f7d538033e45ba98783861ebb63558": {
      "model_module": "@jupyter-widgets/controls",
      "model_module_version": "1.5.0",
      "model_name": "ProgressStyleModel",
      "state": {
       "_model_module": "@jupyter-widgets/controls",
       "_model_module_version": "1.5.0",
       "_model_name": "ProgressStyleModel",
       "_view_count": null,
       "_view_module": "@jupyter-widgets/base",
       "_view_module_version": "1.2.0",
       "_view_name": "StyleView",
       "bar_color": null,
       "description_width": ""
      }
     },
     "afde274ad08b4154b4f989c7da70e73a": {
      "model_module": "@jupyter-widgets/controls",
      "model_module_version": "1.5.0",
      "model_name": "HTMLModel",
      "state": {
       "_dom_classes": [],
       "_model_module": "@jupyter-widgets/controls",
       "_model_module_version": "1.5.0",
       "_model_name": "HTMLModel",
       "_view_count": null,
       "_view_module": "@jupyter-widgets/controls",
       "_view_module_version": "1.5.0",
       "_view_name": "HTMLView",
       "description": "",
       "description_tooltip": null,
       "layout": "IPY_MODEL_e1a73c19762543ceb74b57d707f7896e",
       "placeholder": "​",
       "style": "IPY_MODEL_02a280d23bfb48f589cffb29e8223c3d",
       "value": "100%"
      }
     },
     "e1a73c19762543ceb74b57d707f7896e": {
      "model_module": "@jupyter-widgets/base",
      "model_module_version": "1.2.0",
      "model_name": "LayoutModel",
      "state": {
       "_model_module": "@jupyter-widgets/base",
       "_model_module_version": "1.2.0",
       "_model_name": "LayoutModel",
       "_view_count": null,
       "_view_module": "@jupyter-widgets/base",
       "_view_module_version": "1.2.0",
       "_view_name": "LayoutView",
       "align_content": null,
       "align_items": null,
       "align_self": null,
       "border": null,
       "bottom": null,
       "display": null,
       "flex": null,
       "flex_flow": null,
       "grid_area": null,
       "grid_auto_columns": null,
       "grid_auto_flow": null,
       "grid_auto_rows": null,
       "grid_column": null,
       "grid_gap": null,
       "grid_row": null,
       "grid_template_areas": null,
       "grid_template_columns": null,
       "grid_template_rows": null,
       "height": null,
       "justify_content": null,
       "justify_items": null,
       "left": null,
       "margin": null,
       "max_height": null,
       "max_width": null,
       "min_height": null,
       "min_width": null,
       "object_fit": null,
       "object_position": null,
       "order": null,
       "overflow": null,
       "overflow_x": null,
       "overflow_y": null,
       "padding": null,
       "right": null,
       "top": null,
       "visibility": null,
       "width": null
      }
     },
     "e293726739004dd6800b89442d0979d6": {
      "model_module": "@jupyter-widgets/base",
      "model_module_version": "1.2.0",
      "model_name": "LayoutModel",
      "state": {
       "_model_module": "@jupyter-widgets/base",
       "_model_module_version": "1.2.0",
       "_model_name": "LayoutModel",
       "_view_count": null,
       "_view_module": "@jupyter-widgets/base",
       "_view_module_version": "1.2.0",
       "_view_name": "LayoutView",
       "align_content": null,
       "align_items": null,
       "align_self": null,
       "border": null,
       "bottom": null,
       "display": null,
       "flex": null,
       "flex_flow": null,
       "grid_area": null,
       "grid_auto_columns": null,
       "grid_auto_flow": null,
       "grid_auto_rows": null,
       "grid_column": null,
       "grid_gap": null,
       "grid_row": null,
       "grid_template_areas": null,
       "grid_template_columns": null,
       "grid_template_rows": null,
       "height": null,
       "justify_content": null,
       "justify_items": null,
       "left": null,
       "margin": null,
       "max_height": null,
       "max_width": null,
       "min_height": null,
       "min_width": null,
       "object_fit": null,
       "object_position": null,
       "order": null,
       "overflow": null,
       "overflow_x": null,
       "overflow_y": null,
       "padding": null,
       "right": null,
       "top": null,
       "visibility": null,
       "width": null
      }
     }
    },
    "version_major": 2,
    "version_minor": 0
   }
  }
 },
 "nbformat": 4,
 "nbformat_minor": 5
}
