{
 "cells": [
  {
   "cell_type": "code",
   "execution_count": 1,
   "id": "fef0709b",
   "metadata": {
    "execution": {
     "iopub.execute_input": "2022-09-29T23:38:16.796438Z",
     "iopub.status.busy": "2022-09-29T23:38:16.795598Z",
     "iopub.status.idle": "2022-09-29T23:38:17.039744Z",
     "shell.execute_reply": "2022-09-29T23:38:17.038483Z"
    },
    "papermill": {
     "duration": 0.25587,
     "end_time": "2022-09-29T23:38:17.043074",
     "exception": false,
     "start_time": "2022-09-29T23:38:16.787204",
     "status": "completed"
    },
    "tags": []
   },
   "outputs": [],
   "source": [
    "import os\n",
    "import cv2\n",
    "import numpy as np\n",
    "from tqdm import tqdm\n",
    "import matplotlib.pyplot as plt"
   ]
  },
  {
   "cell_type": "markdown",
   "id": "8f9eb3c4",
   "metadata": {
    "papermill": {
     "duration": 0.004661,
     "end_time": "2022-09-29T23:38:17.053118",
     "exception": false,
     "start_time": "2022-09-29T23:38:17.048457",
     "status": "completed"
    },
    "tags": []
   },
   "source": [
    "## File constants"
   ]
  },
  {
   "cell_type": "code",
   "execution_count": 2,
   "id": "e83e39f8",
   "metadata": {
    "execution": {
     "iopub.execute_input": "2022-09-29T23:38:17.065099Z",
     "iopub.status.busy": "2022-09-29T23:38:17.064475Z",
     "iopub.status.idle": "2022-09-29T23:38:17.070445Z",
     "shell.execute_reply": "2022-09-29T23:38:17.069229Z"
    },
    "papermill": {
     "duration": 0.014659,
     "end_time": "2022-09-29T23:38:17.072874",
     "exception": false,
     "start_time": "2022-09-29T23:38:17.058215",
     "status": "completed"
    },
    "tags": []
   },
   "outputs": [],
   "source": [
    "targetWidth = 1024\n",
    "targetHeight = 512"
   ]
  },
  {
   "cell_type": "code",
   "execution_count": 3,
   "id": "cad2b60d",
   "metadata": {
    "execution": {
     "iopub.execute_input": "2022-09-29T23:38:17.086220Z",
     "iopub.status.busy": "2022-09-29T23:38:17.085777Z",
     "iopub.status.idle": "2022-09-29T23:38:17.112561Z",
     "shell.execute_reply": "2022-09-29T23:38:17.111630Z"
    },
    "papermill": {
     "duration": 0.037073,
     "end_time": "2022-09-29T23:38:17.115086",
     "exception": false,
     "start_time": "2022-09-29T23:38:17.078013",
     "status": "completed"
    },
    "tags": []
   },
   "outputs": [],
   "source": [
    "from collections import namedtuple\n",
    "\n",
    "# Based on https://github.com/mcordts/cityscapesScripts\n",
    "CityscapesClass = namedtuple('CityscapesClass', ['name', 'id', 'train_id', 'category', 'category_id',\n",
    "                                                 'has_instances', 'ignore_in_eval', 'color'])\n",
    "classes = [\n",
    "    CityscapesClass('unlabeled',            0, 19, 'void', 0, False, True, (0, 0, 0)),\n",
    "    CityscapesClass('ego vehicle',          1, 19, 'void', 0, False, True, (0, 0, 0)),\n",
    "    CityscapesClass('rectification border', 2, 19, 'void', 0, False, True, (0, 0, 0)),\n",
    "    CityscapesClass('out of roi',           3, 19, 'void', 0, False, True, (0, 0, 0)),\n",
    "    CityscapesClass('static',               4, 19, 'void', 0, False, True, (0, 0, 0)),\n",
    "    CityscapesClass('dynamic',              5, 19, 'void', 0, False, True, (111, 74, 0)),\n",
    "    CityscapesClass('ground',               6, 19, 'void', 0, False, True, (81, 0, 81)),\n",
    "    CityscapesClass('road',                 7, 0, 'flat', 1, False, False, (128, 64, 128)),\n",
    "    CityscapesClass('sidewalk',             8, 1, 'flat', 1, False, False, (244, 35, 232)),\n",
    "    CityscapesClass('parking',              9, 19, 'flat', 1, False, True, (250, 170, 160)),\n",
    "    CityscapesClass('rail track',           10, 19, 'flat', 1, False, True, (230, 150, 140)),\n",
    "    CityscapesClass('building',             11, 2, 'construction', 2, False, False, (70, 70, 70)),\n",
    "    CityscapesClass('wall',                 12, 3, 'construction', 2, False, False, (102, 102, 156)),\n",
    "    CityscapesClass('fence',                13, 4, 'construction', 2, False, False, (190, 153, 153)),\n",
    "    CityscapesClass('guard rail',           14, 19, 'construction', 2, False, True, (180, 165, 180)),\n",
    "    CityscapesClass('bridge',               15, 19, 'construction', 2, False, True, (150, 100, 100)),\n",
    "    CityscapesClass('tunnel',               16, 19, 'construction', 2, False, True, (150, 120, 90)),\n",
    "    CityscapesClass('pole',                 17, 5, 'object', 3, False, False, (153, 153, 153)),\n",
    "    CityscapesClass('polegroup',            18, 19, 'object', 3, False, True, (153, 153, 153)),\n",
    "    CityscapesClass('traffic light',        19, 6, 'object', 3, False, False, (250, 170, 30)),\n",
    "    CityscapesClass('traffic sign',         20, 7, 'object', 3, False, False, (220, 220, 0)),\n",
    "    CityscapesClass('vegetation',           21, 8, 'nature', 4, False, False, (107, 142, 35)),\n",
    "    CityscapesClass('terrain',              22, 9, 'nature', 4, False, False, (152, 251, 152)),\n",
    "    CityscapesClass('sky',                  23, 10, 'sky', 5, False, False, (70, 130, 180)),\n",
    "    CityscapesClass('person',               24, 11, 'human', 6, True, False, (220, 20, 60)),\n",
    "    CityscapesClass('rider',                25, 12, 'human', 6, True, False, (255, 0, 0)),\n",
    "    CityscapesClass('car',                  26, 13, 'vehicle', 7, True, False, (0, 0, 142)),\n",
    "    CityscapesClass('truck',                27, 14, 'vehicle', 7, True, False, (0, 0, 70)),\n",
    "    CityscapesClass('bus',                  28, 15, 'vehicle', 7, True, False, (0, 60, 100)),\n",
    "    CityscapesClass('caravan',              29, 19, 'vehicle', 7, True, True, (0, 0, 90)),\n",
    "    CityscapesClass('trailer',              30, 19, 'vehicle', 7, True, True, (0, 0, 110)),\n",
    "    CityscapesClass('train',                31, 16, 'vehicle', 7, True, False, (0, 80, 100)),\n",
    "    CityscapesClass('motorcycle',           32, 17, 'vehicle', 7, True, False, (0, 0, 230)),\n",
    "    CityscapesClass('bicycle',              33, 18, 'vehicle', 7, True, False, (119, 11, 32)),\n",
    "    CityscapesClass('license plate',        -1, 19, 'vehicle', 7, False, True, (0, 0, 142)),\n",
    "]\n",
    "\n",
    "train_id_to_color = [c.color for c in classes if (c.train_id != -1 and c.train_id != 19)]\n",
    "train_id_to_color.append([0, 0, 0])\n",
    "train_id_to_color = np.array(train_id_to_color)\n",
    "id_to_train_id = np.array([c.train_id for c in classes])"
   ]
  },
  {
   "cell_type": "markdown",
   "id": "ae28a4f2",
   "metadata": {
    "papermill": {
     "duration": 0.004661,
     "end_time": "2022-09-29T23:38:17.124957",
     "exception": false,
     "start_time": "2022-09-29T23:38:17.120296",
     "status": "completed"
    },
    "tags": []
   },
   "source": [
    "## Helper functions"
   ]
  },
  {
   "cell_type": "code",
   "execution_count": 4,
   "id": "583a663a",
   "metadata": {
    "execution": {
     "iopub.execute_input": "2022-09-29T23:38:17.136756Z",
     "iopub.status.busy": "2022-09-29T23:38:17.136284Z",
     "iopub.status.idle": "2022-09-29T23:38:17.142161Z",
     "shell.execute_reply": "2022-09-29T23:38:17.140880Z"
    },
    "papermill": {
     "duration": 0.014703,
     "end_time": "2022-09-29T23:38:17.144640",
     "exception": false,
     "start_time": "2022-09-29T23:38:17.129937",
     "status": "completed"
    },
    "tags": []
   },
   "outputs": [],
   "source": [
    "def createDir(dirPath):\n",
    "    if(not os.path.isdir(dirPath)):\n",
    "        os.mkdir(dirPath)"
   ]
  },
  {
   "cell_type": "code",
   "execution_count": 5,
   "id": "c5714bcc",
   "metadata": {
    "execution": {
     "iopub.execute_input": "2022-09-29T23:38:17.156577Z",
     "iopub.status.busy": "2022-09-29T23:38:17.156156Z",
     "iopub.status.idle": "2022-09-29T23:38:17.168337Z",
     "shell.execute_reply": "2022-09-29T23:38:17.167135Z"
    },
    "papermill": {
     "duration": 0.021036,
     "end_time": "2022-09-29T23:38:17.170749",
     "exception": false,
     "start_time": "2022-09-29T23:38:17.149713",
     "status": "completed"
    },
    "tags": []
   },
   "outputs": [],
   "source": [
    "def createResizedDataSet(subFolder : str, dirs : str):\n",
    "    imgCount = 0\n",
    "    \n",
    "    # create output directories for RGB images and labels\n",
    "    outputRgbSubFolder = os.path.join(outputRgbDir, *[subFolder])\n",
    "    createDir(outputRgbSubFolder)\n",
    "    outputLabelSubFolder = os.path.join(outputLabelDir, *[subFolder])\n",
    "    createDir(outputLabelSubFolder)\n",
    "    \n",
    "    # iterate through list of input directories\n",
    "    for folderIndex, folder in enumerate(dirs):\n",
    "        print(f'{folderIndex}. Reading {folder} data ...')\n",
    "        \n",
    "        # get files in the subdirectory\n",
    "        rgbImgFolderPath = os.path.join(inputRgbDir, *[subFolder, folder])\n",
    "        inputFiles = sorted(os.listdir(rgbImgFolderPath))\n",
    "        \n",
    "        for file in tqdm(inputFiles, total=len(inputFiles), position=0, leave=True):\n",
    "            fileName = file.replace('_leftImg8bit.png','')\n",
    "            outputFileName = f\"{fileName}.png\"\n",
    "            \n",
    "            # read input image, resize and write\n",
    "            rgbImgPath = os.path.join(rgbImgFolderPath, *[file])\n",
    "            rgbImg = cv2.imread(rgbImgPath)\n",
    "            resizedRgbImg = cv2.resize(rgbImg, (targetWidth, targetHeight),\n",
    "                     interpolation=cv2.INTER_NEAREST)\n",
    "            cv2.imwrite(os.path.join(outputRgbDir, *[subFolder, outputFileName]), resizedRgbImg)\n",
    "\n",
    "            # read label image, resize, encode to train id and write\n",
    "            labelImgPath = os.path.join(inputLabelDir, *[subFolder, folder, f\"{fileName}_gtFine_labelIds.png\"])\n",
    "            labelImg = cv2.imread(labelImgPath, -1)\n",
    "            resizedLabelImg = cv2.resize(labelImg, (targetWidth, targetHeight),\n",
    "                     interpolation=cv2.INTER_NEAREST)\n",
    "            encodedResizedLabelImg = id_to_train_id[resizedLabelImg]\n",
    "            cv2.imwrite(os.path.join(outputLabelDir, *[subFolder, outputFileName]), encodedResizedLabelImg)\n",
    "\n",
    "            imgCount = imgCount + 1\n",
    "\n",
    "    print(f\"Resized {imgCount} images in {len(dirs)} folders\")"
   ]
  },
  {
   "cell_type": "code",
   "execution_count": 6,
   "id": "50a03234",
   "metadata": {
    "execution": {
     "iopub.execute_input": "2022-09-29T23:38:17.184597Z",
     "iopub.status.busy": "2022-09-29T23:38:17.184182Z",
     "iopub.status.idle": "2022-09-29T23:38:17.194194Z",
     "shell.execute_reply": "2022-09-29T23:38:17.192927Z"
    },
    "papermill": {
     "duration": 0.01868,
     "end_time": "2022-09-29T23:38:17.196516",
     "exception": false,
     "start_time": "2022-09-29T23:38:17.177836",
     "status": "completed"
    },
    "tags": []
   },
   "outputs": [],
   "source": [
    "def createResizedDemoVideoDataset(inputRootDir, dirs, outputRootDir):\n",
    "    imgCount = 0\n",
    "    \n",
    "    # iterate through list of input directories    \n",
    "    for folderIndex, folder in enumerate(dirs):\n",
    "        print(f'{folderIndex}. Reading {folder} data ...')\n",
    "        \n",
    "        # get files in the subdirectory        \n",
    "        rgbImgFolderPath = os.path.join(inputRootDir, *[folder])        \n",
    "        inputFiles = sorted(os.listdir(rgbImgFolderPath))\n",
    "        \n",
    "        # create output directory\n",
    "        outputRgbFolder = os.path.join(outputRootDir, *[folder])\n",
    "        createDir(outputRgbFolder)\n",
    "    \n",
    "        for file in tqdm(inputFiles, total=len(inputFiles), position=0, leave=True):\n",
    "            fileName = file.replace('_leftImg8bit.png','')\n",
    "            outputFileName = f\"{fileName}.png\"\n",
    "            \n",
    "            # read input image, resize and write\n",
    "            rgbImgPath = os.path.join(rgbImgFolderPath, *[file])\n",
    "            rgbImg = cv2.imread(rgbImgPath)\n",
    "            resizedRgbImg = cv2.resize(rgbImg, (targetWidth, targetHeight),\n",
    "                     interpolation=cv2.INTER_NEAREST)\n",
    "            cv2.imwrite(os.path.join(outputRgbFolder, *[outputFileName]), resizedRgbImg)\n",
    "            \n",
    "            imgCount = imgCount + 1\n",
    "            \n",
    "    print(f\"Resized {imgCount} images in {len(dirs)} folders\")            "
   ]
  },
  {
   "cell_type": "markdown",
   "id": "ee11c445",
   "metadata": {
    "papermill": {
     "duration": 0.004602,
     "end_time": "2022-09-29T23:38:17.206275",
     "exception": false,
     "start_time": "2022-09-29T23:38:17.201673",
     "status": "completed"
    },
    "tags": []
   },
   "source": [
    "## Convert Train, Validation folder"
   ]
  },
  {
   "cell_type": "code",
   "execution_count": 7,
   "id": "0a3b3a13",
   "metadata": {
    "execution": {
     "iopub.execute_input": "2022-09-29T23:38:17.218010Z",
     "iopub.status.busy": "2022-09-29T23:38:17.217605Z",
     "iopub.status.idle": "2022-09-29T23:38:17.223480Z",
     "shell.execute_reply": "2022-09-29T23:38:17.222533Z"
    },
    "papermill": {
     "duration": 0.014357,
     "end_time": "2022-09-29T23:38:17.225547",
     "exception": false,
     "start_time": "2022-09-29T23:38:17.211190",
     "status": "completed"
    },
    "tags": []
   },
   "outputs": [],
   "source": [
    "train_dirs = sorted([\"jena\", \"zurich\", \"weimar\", \"ulm\", \"tubingen\", \"stuttgart\",\n",
    "              \"strasbourg\", \"monchengladbach\", \"krefeld\", \"hanover\",\n",
    "              \"hamburg\", \"erfurt\", \"dusseldorf\", \"darmstadt\", \"cologne\",\n",
    "              \"bremen\", \"bochum\", \"aachen\"])\n",
    "val_dirs = sorted([\"frankfurt\", \"munster\", \"lindau\"])\n",
    "test_dirs = sorted([\"berlin\", \"bielefeld\", \"bonn\", \"leverkusen\", \"mainz\", \"munich\"])"
   ]
  },
  {
   "cell_type": "code",
   "execution_count": 8,
   "id": "068530cd",
   "metadata": {
    "execution": {
     "iopub.execute_input": "2022-09-29T23:38:17.238175Z",
     "iopub.status.busy": "2022-09-29T23:38:17.237119Z",
     "iopub.status.idle": "2022-09-29T23:38:17.242995Z",
     "shell.execute_reply": "2022-09-29T23:38:17.241829Z"
    },
    "papermill": {
     "duration": 0.014889,
     "end_time": "2022-09-29T23:38:17.245529",
     "exception": false,
     "start_time": "2022-09-29T23:38:17.230640",
     "status": "completed"
    },
    "tags": []
   },
   "outputs": [],
   "source": [
    "inputRgbDir = '../input/cityscapes/Cityspaces/images'\n",
    "inputLabelDir = '../input/cityscapes/Cityspaces/gtFine'\n",
    "outputRgbDir = 'leftImg8bit'\n",
    "outputLabelDir = 'gtFine'"
   ]
  },
  {
   "cell_type": "code",
   "execution_count": 9,
   "id": "d6bae2da",
   "metadata": {
    "execution": {
     "iopub.execute_input": "2022-09-29T23:38:17.257448Z",
     "iopub.status.busy": "2022-09-29T23:38:17.257006Z",
     "iopub.status.idle": "2022-09-29T23:38:17.262567Z",
     "shell.execute_reply": "2022-09-29T23:38:17.261419Z"
    },
    "papermill": {
     "duration": 0.014328,
     "end_time": "2022-09-29T23:38:17.264964",
     "exception": false,
     "start_time": "2022-09-29T23:38:17.250636",
     "status": "completed"
    },
    "tags": []
   },
   "outputs": [],
   "source": [
    "createDir(outputRgbDir)\n",
    "createDir(outputLabelDir)"
   ]
  },
  {
   "cell_type": "code",
   "execution_count": 10,
   "id": "a5b6746c",
   "metadata": {
    "execution": {
     "iopub.execute_input": "2022-09-29T23:38:17.277284Z",
     "iopub.status.busy": "2022-09-29T23:38:17.276410Z",
     "iopub.status.idle": "2022-09-29T23:46:48.871948Z",
     "shell.execute_reply": "2022-09-29T23:46:48.869071Z"
    },
    "papermill": {
     "duration": 511.605079,
     "end_time": "2022-09-29T23:46:48.875215",
     "exception": false,
     "start_time": "2022-09-29T23:38:17.270136",
     "status": "completed"
    },
    "tags": []
   },
   "outputs": [
    {
     "name": "stdout",
     "output_type": "stream",
     "text": [
      "0. Reading aachen data ...\n"
     ]
    },
    {
     "name": "stderr",
     "output_type": "stream",
     "text": [
      "100%|██████████| 174/174 [00:29<00:00,  5.88it/s]\n"
     ]
    },
    {
     "name": "stdout",
     "output_type": "stream",
     "text": [
      "1. Reading bochum data ...\n"
     ]
    },
    {
     "name": "stderr",
     "output_type": "stream",
     "text": [
      "100%|██████████| 96/96 [00:16<00:00,  5.77it/s]\n"
     ]
    },
    {
     "name": "stdout",
     "output_type": "stream",
     "text": [
      "2. Reading bremen data ...\n"
     ]
    },
    {
     "name": "stderr",
     "output_type": "stream",
     "text": [
      "100%|██████████| 316/316 [00:53<00:00,  5.95it/s]\n"
     ]
    },
    {
     "name": "stdout",
     "output_type": "stream",
     "text": [
      "3. Reading cologne data ...\n"
     ]
    },
    {
     "name": "stderr",
     "output_type": "stream",
     "text": [
      "100%|██████████| 154/154 [00:28<00:00,  5.48it/s]\n"
     ]
    },
    {
     "name": "stdout",
     "output_type": "stream",
     "text": [
      "4. Reading darmstadt data ...\n"
     ]
    },
    {
     "name": "stderr",
     "output_type": "stream",
     "text": [
      "100%|██████████| 85/85 [00:14<00:00,  5.89it/s]\n"
     ]
    },
    {
     "name": "stdout",
     "output_type": "stream",
     "text": [
      "5. Reading dusseldorf data ...\n"
     ]
    },
    {
     "name": "stderr",
     "output_type": "stream",
     "text": [
      "100%|██████████| 221/221 [00:37<00:00,  5.88it/s]\n"
     ]
    },
    {
     "name": "stdout",
     "output_type": "stream",
     "text": [
      "6. Reading erfurt data ...\n"
     ]
    },
    {
     "name": "stderr",
     "output_type": "stream",
     "text": [
      "100%|██████████| 109/109 [00:18<00:00,  5.89it/s]\n"
     ]
    },
    {
     "name": "stdout",
     "output_type": "stream",
     "text": [
      "7. Reading hamburg data ...\n"
     ]
    },
    {
     "name": "stderr",
     "output_type": "stream",
     "text": [
      "100%|██████████| 248/248 [00:43<00:00,  5.72it/s]\n"
     ]
    },
    {
     "name": "stdout",
     "output_type": "stream",
     "text": [
      "8. Reading hanover data ...\n"
     ]
    },
    {
     "name": "stderr",
     "output_type": "stream",
     "text": [
      "100%|██████████| 196/196 [00:33<00:00,  5.86it/s]\n"
     ]
    },
    {
     "name": "stdout",
     "output_type": "stream",
     "text": [
      "9. Reading jena data ...\n"
     ]
    },
    {
     "name": "stderr",
     "output_type": "stream",
     "text": [
      "100%|██████████| 119/119 [00:20<00:00,  5.89it/s]\n"
     ]
    },
    {
     "name": "stdout",
     "output_type": "stream",
     "text": [
      "10. Reading krefeld data ...\n"
     ]
    },
    {
     "name": "stderr",
     "output_type": "stream",
     "text": [
      "100%|██████████| 99/99 [00:17<00:00,  5.81it/s]\n"
     ]
    },
    {
     "name": "stdout",
     "output_type": "stream",
     "text": [
      "11. Reading monchengladbach data ...\n"
     ]
    },
    {
     "name": "stderr",
     "output_type": "stream",
     "text": [
      "100%|██████████| 94/94 [00:15<00:00,  5.90it/s]\n"
     ]
    },
    {
     "name": "stdout",
     "output_type": "stream",
     "text": [
      "12. Reading strasbourg data ...\n"
     ]
    },
    {
     "name": "stderr",
     "output_type": "stream",
     "text": [
      "100%|██████████| 365/365 [01:03<00:00,  5.78it/s]\n"
     ]
    },
    {
     "name": "stdout",
     "output_type": "stream",
     "text": [
      "13. Reading stuttgart data ...\n"
     ]
    },
    {
     "name": "stderr",
     "output_type": "stream",
     "text": [
      "100%|██████████| 196/196 [00:33<00:00,  5.91it/s]\n"
     ]
    },
    {
     "name": "stdout",
     "output_type": "stream",
     "text": [
      "14. Reading tubingen data ...\n"
     ]
    },
    {
     "name": "stderr",
     "output_type": "stream",
     "text": [
      "100%|██████████| 144/144 [00:24<00:00,  5.83it/s]\n"
     ]
    },
    {
     "name": "stdout",
     "output_type": "stream",
     "text": [
      "15. Reading ulm data ...\n"
     ]
    },
    {
     "name": "stderr",
     "output_type": "stream",
     "text": [
      "100%|██████████| 95/95 [00:15<00:00,  5.95it/s]\n"
     ]
    },
    {
     "name": "stdout",
     "output_type": "stream",
     "text": [
      "16. Reading weimar data ...\n"
     ]
    },
    {
     "name": "stderr",
     "output_type": "stream",
     "text": [
      "100%|██████████| 142/142 [00:24<00:00,  5.81it/s]\n"
     ]
    },
    {
     "name": "stdout",
     "output_type": "stream",
     "text": [
      "17. Reading zurich data ...\n"
     ]
    },
    {
     "name": "stderr",
     "output_type": "stream",
     "text": [
      "100%|██████████| 122/122 [00:20<00:00,  5.88it/s]"
     ]
    },
    {
     "name": "stdout",
     "output_type": "stream",
     "text": [
      "Resized 2975 images in 18 folders\n"
     ]
    },
    {
     "name": "stderr",
     "output_type": "stream",
     "text": [
      "\n"
     ]
    }
   ],
   "source": [
    "createResizedDataSet(subFolder='train', dirs=train_dirs)"
   ]
  },
  {
   "cell_type": "code",
   "execution_count": 11,
   "id": "5bd3db02",
   "metadata": {
    "execution": {
     "iopub.execute_input": "2022-09-29T23:46:49.355880Z",
     "iopub.status.busy": "2022-09-29T23:46:49.354357Z",
     "iopub.status.idle": "2022-09-29T23:48:15.401434Z",
     "shell.execute_reply": "2022-09-29T23:48:15.399833Z"
    },
    "papermill": {
     "duration": 86.236951,
     "end_time": "2022-09-29T23:48:15.404494",
     "exception": false,
     "start_time": "2022-09-29T23:46:49.167543",
     "status": "completed"
    },
    "tags": []
   },
   "outputs": [
    {
     "name": "stdout",
     "output_type": "stream",
     "text": [
      "0. Reading frankfurt data ...\n"
     ]
    },
    {
     "name": "stderr",
     "output_type": "stream",
     "text": [
      "100%|██████████| 267/267 [00:45<00:00,  5.81it/s]\n"
     ]
    },
    {
     "name": "stdout",
     "output_type": "stream",
     "text": [
      "1. Reading lindau data ...\n"
     ]
    },
    {
     "name": "stderr",
     "output_type": "stream",
     "text": [
      "100%|██████████| 59/59 [00:10<00:00,  5.78it/s]\n"
     ]
    },
    {
     "name": "stdout",
     "output_type": "stream",
     "text": [
      "2. Reading munster data ...\n"
     ]
    },
    {
     "name": "stderr",
     "output_type": "stream",
     "text": [
      "100%|██████████| 174/174 [00:29<00:00,  5.87it/s]"
     ]
    },
    {
     "name": "stdout",
     "output_type": "stream",
     "text": [
      "Resized 500 images in 3 folders\n"
     ]
    },
    {
     "name": "stderr",
     "output_type": "stream",
     "text": [
      "\n"
     ]
    }
   ],
   "source": [
    "createResizedDataSet(subFolder='val', dirs=val_dirs)"
   ]
  },
  {
   "cell_type": "markdown",
   "id": "fd2352e4",
   "metadata": {
    "papermill": {
     "duration": 0.215205,
     "end_time": "2022-09-29T23:48:15.835182",
     "exception": false,
     "start_time": "2022-09-29T23:48:15.619977",
     "status": "completed"
    },
    "tags": []
   },
   "source": [
    "## Convert demoVideo folder"
   ]
  },
  {
   "cell_type": "code",
   "execution_count": 12,
   "id": "6b6c1c85",
   "metadata": {
    "execution": {
     "iopub.execute_input": "2022-09-29T23:48:16.280613Z",
     "iopub.status.busy": "2022-09-29T23:48:16.279301Z",
     "iopub.status.idle": "2022-09-29T23:48:16.285297Z",
     "shell.execute_reply": "2022-09-29T23:48:16.284426Z"
    },
    "papermill": {
     "duration": 0.230251,
     "end_time": "2022-09-29T23:48:16.287475",
     "exception": false,
     "start_time": "2022-09-29T23:48:16.057224",
     "status": "completed"
    },
    "tags": []
   },
   "outputs": [],
   "source": [
    "inputDemoVideoDir = '../input/cityscapes-demovideo/leftImg8bit/demoVideo'\n",
    "outputDemoVideoDir = 'demoVideo'\n",
    "demo_video_dirs = sorted(['stuttgart_00'])  # , 'stuttgart_01/', 'stuttgart_02/'"
   ]
  },
  {
   "cell_type": "code",
   "execution_count": 13,
   "id": "535d0a05",
   "metadata": {
    "execution": {
     "iopub.execute_input": "2022-09-29T23:48:16.797689Z",
     "iopub.status.busy": "2022-09-29T23:48:16.796368Z",
     "iopub.status.idle": "2022-09-29T23:48:16.801577Z",
     "shell.execute_reply": "2022-09-29T23:48:16.800747Z"
    },
    "papermill": {
     "duration": 0.223793,
     "end_time": "2022-09-29T23:48:16.803895",
     "exception": false,
     "start_time": "2022-09-29T23:48:16.580102",
     "status": "completed"
    },
    "tags": []
   },
   "outputs": [],
   "source": [
    "createDir(outputDemoVideoDir)"
   ]
  },
  {
   "cell_type": "code",
   "execution_count": 14,
   "id": "7ad07057",
   "metadata": {
    "execution": {
     "iopub.execute_input": "2022-09-29T23:48:17.239446Z",
     "iopub.status.busy": "2022-09-29T23:48:17.238105Z",
     "iopub.status.idle": "2022-09-29T23:49:37.874942Z",
     "shell.execute_reply": "2022-09-29T23:49:37.873807Z"
    },
    "papermill": {
     "duration": 80.860026,
     "end_time": "2022-09-29T23:49:37.881332",
     "exception": false,
     "start_time": "2022-09-29T23:48:17.021306",
     "status": "completed"
    },
    "tags": []
   },
   "outputs": [
    {
     "name": "stdout",
     "output_type": "stream",
     "text": [
      "0. Reading stuttgart_00 data ...\n"
     ]
    },
    {
     "name": "stderr",
     "output_type": "stream",
     "text": [
      "100%|██████████| 599/599 [01:20<00:00,  7.44it/s]"
     ]
    },
    {
     "name": "stdout",
     "output_type": "stream",
     "text": [
      "Resized 599 images in 1 folders\n"
     ]
    },
    {
     "name": "stderr",
     "output_type": "stream",
     "text": [
      "\n"
     ]
    }
   ],
   "source": [
    "createResizedDemoVideoDataset(inputRootDir = inputDemoVideoDir, dirs = demo_video_dirs, \n",
    "                              outputRootDir = outputDemoVideoDir)"
   ]
  }
 ],
 "metadata": {
  "kernelspec": {
   "display_name": "Python 3",
   "language": "python",
   "name": "python3"
  },
  "language_info": {
   "codemirror_mode": {
    "name": "ipython",
    "version": 3
   },
   "file_extension": ".py",
   "mimetype": "text/x-python",
   "name": "python",
   "nbconvert_exporter": "python",
   "pygments_lexer": "ipython3",
   "version": "3.7.12"
  },
  "papermill": {
   "default_parameters": {},
   "duration": 691.678838,
   "end_time": "2022-09-29T23:49:39.060198",
   "environment_variables": {},
   "exception": null,
   "input_path": "__notebook__.ipynb",
   "output_path": "__notebook__.ipynb",
   "parameters": {},
   "start_time": "2022-09-29T23:38:07.381360",
   "version": "2.3.4"
  }
 },
 "nbformat": 4,
 "nbformat_minor": 5
}
