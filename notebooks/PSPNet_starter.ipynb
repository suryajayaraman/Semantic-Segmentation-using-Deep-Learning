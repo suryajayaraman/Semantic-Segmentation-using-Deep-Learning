{
 "cells": [
  {
   "cell_type": "code",
   "execution_count": 1,
   "id": "97f855d2",
   "metadata": {},
   "outputs": [
    {
     "name": "stderr",
     "output_type": "stream",
     "text": [
      "D:\\surya\\miniconda37\\envs\\imgseg\\lib\\site-packages\\tqdm\\auto.py:22: TqdmWarning: IProgress not found. Please update jupyter and ipywidgets. See https://ipywidgets.readthedocs.io/en/stable/user_install.html\n",
      "  from .autonotebook import tqdm as notebook_tqdm\n"
     ]
    }
   ],
   "source": [
    "# basic imports\n",
    "import random\n",
    "import numpy as np\n",
    "\n",
    "# DL library imports\n",
    "import torch\n",
    "import torch.nn as nn\n",
    "import torch.nn.functional as F\n",
    "from torchvision import transforms\n",
    "from torch.utils.data import Dataset, DataLoader\n",
    "\n",
    "# libraries for loading image, plotting \n",
    "import cv2\n",
    "import matplotlib.pyplot as plt"
   ]
  },
  {
   "cell_type": "code",
   "execution_count": 2,
   "id": "3507cdab",
   "metadata": {},
   "outputs": [],
   "source": [
    "from torchvision.models import resnet50"
   ]
  },
  {
   "cell_type": "code",
   "execution_count": 3,
   "id": "fdedcc0d",
   "metadata": {},
   "outputs": [],
   "source": [
    "backbone = resnet50(pretrained=False)"
   ]
  },
  {
   "cell_type": "code",
   "execution_count": 4,
   "id": "03cd18c6",
   "metadata": {},
   "outputs": [
    {
     "data": {
      "text/plain": [
       "2048"
      ]
     },
     "execution_count": 4,
     "metadata": {},
     "output_type": "execute_result"
    }
   ],
   "source": [
    "backbone.fc.in_features"
   ]
  },
  {
   "cell_type": "code",
   "execution_count": null,
   "id": "a1a9ddc6",
   "metadata": {},
   "outputs": [],
   "source": []
  },
  {
   "cell_type": "code",
   "execution_count": null,
   "id": "bb3cf6ad",
   "metadata": {},
   "outputs": [],
   "source": [
    "class _PSPModule(nn.Module):\n",
    "    def __init__(self, in_channels, bin_sizes, norm_layer):\n",
    "        super(_PSPModule, self).__init__()\n",
    "        out_channels = in_channels // len(bin_sizes)\n",
    "        self.stages = nn.ModuleList([self._make_stages(in_channels, out_channels, b_s, norm_layer) \n",
    "                                                        for b_s in bin_sizes])\n",
    "        self.bottleneck = nn.Sequential(\n",
    "            nn.Conv2d(in_channels+(out_channels * len(bin_sizes)), out_channels, \n",
    "                                    kernel_size=3, padding=1, bias=False),\n",
    "            norm_layer(out_channels),\n",
    "            nn.ReLU(inplace=True),\n",
    "            nn.Dropout2d(0.1)\n",
    "        )\n",
    "\n",
    "    def _make_stages(self, in_channels, out_channels, bin_sz, norm_layer):\n",
    "        prior = nn.AdaptiveAvgPool2d(output_size=bin_sz)\n",
    "        conv = nn.Conv2d(in_channels, out_channels, kernel_size=1, bias=False)\n",
    "        bn = norm_layer(out_channels)\n",
    "        relu = nn.ReLU(inplace=True)\n",
    "        return nn.Sequential(prior, conv, bn, relu)\n",
    "    \n",
    "    def forward(self, features):\n",
    "        h, w = features.size()[2], features.size()[3]\n",
    "        pyramids = [features]\n",
    "        pyramids.extend([F.interpolate(stage(features), size=(h, w), mode='bilinear', \n",
    "                                        align_corners=True) for stage in self.stages])\n",
    "        output = self.bottleneck(torch.cat(pyramids, dim=1))\n",
    "        return output"
   ]
  }
 ],
 "metadata": {
  "kernelspec": {
   "display_name": "python(imgseg)",
   "language": "python",
   "name": "imgseg"
  },
  "language_info": {
   "codemirror_mode": {
    "name": "ipython",
    "version": 3
   },
   "file_extension": ".py",
   "mimetype": "text/x-python",
   "name": "python",
   "nbconvert_exporter": "python",
   "pygments_lexer": "ipython3",
   "version": "3.7.0"
  }
 },
 "nbformat": 4,
 "nbformat_minor": 5
}
