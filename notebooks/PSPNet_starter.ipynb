{
 "cells": [
  {
   "cell_type": "code",
   "execution_count": 1,
   "id": "97f855d2",
   "metadata": {},
   "outputs": [
    {
     "name": "stderr",
     "output_type": "stream",
     "text": [
      "D:\\surya\\miniconda37\\envs\\imgseg\\lib\\site-packages\\tqdm\\auto.py:22: TqdmWarning: IProgress not found. Please update jupyter and ipywidgets. See https://ipywidgets.readthedocs.io/en/stable/user_install.html\n",
      "  from .autonotebook import tqdm as notebook_tqdm\n"
     ]
    }
   ],
   "source": [
    "# basic imports\n",
    "import random\n",
    "import numpy as np\n",
    "\n",
    "# DL library imports\n",
    "import torch\n",
    "import torch.nn as nn\n",
    "import torch.nn.functional as F\n",
    "from torchvision.models import resnet50"
   ]
  },
  {
   "cell_type": "code",
   "execution_count": 2,
   "id": "73fde37b",
   "metadata": {},
   "outputs": [],
   "source": [
    "class pyramid_pooling_module(nn.Module):\n",
    "    def __init__(self, in_channels, out_channels, bin_sizes):\n",
    "        super(pyramid_pooling_module, self).__init__()\n",
    "        \n",
    "        # create pyramid pooling layers for each level\n",
    "        self.pyramid_pool_layers = []\n",
    "        for bin_sz in bin_sizes:\n",
    "            self.pyramid_pool_layers.append(nn.Sequential(\n",
    "                nn.AdaptiveAvgPool2d(bin_sz),\n",
    "                nn.Conv2d(in_channels, out_channels, kernel_size=1, bias=False),\n",
    "                nn.BatchNorm2d(out_channels),\n",
    "                nn.ReLU(inplace=True)\n",
    "            ))\n",
    "        self.pyramid_pool_layers = nn.ModuleList(self.pyramid_pool_layers)\n",
    "\n",
    "    def forward(self, x):\n",
    "        x_size = x.size()\n",
    "        out = [x]\n",
    "        for layer in self.pyramid_pool_layers:\n",
    "            out.append(F.interpolate(layer(x), x_size[2:], mode='bilinear', align_corners=True))\n",
    "        return torch.cat(out, 1)"
   ]
  },
  {
   "cell_type": "code",
   "execution_count": null,
   "id": "c253cf6d",
   "metadata": {},
   "outputs": [],
   "source": [
    "class PSPNet(nn.Module):\n",
    "    def __init__(self, in_channels, num_classes, use_aux=False):\n",
    "        super(PSPNet, self).__init__()\n",
    "        self.in_channels = in_channels\n",
    "        self.num_classes = num_classes\n",
    "                \n",
    "        # backbone layers\n",
    "        backbone = resnet50(pretrained=True, replace_stride_with_dilation=[False, True, True])        \n",
    "        self.initial = nn.Sequential(*list(backbone.children())[:4])\n",
    "        self.layer1 = backbone.layer1\n",
    "        self.layer2 = backbone.layer2\n",
    "        self.layer3 = backbone.layer3\n",
    "        self.layer4 = backbone.layer4\n",
    "        \n",
    "        # Pyramid pooling module components\n",
    "        ppm_in_channels = int(backbone.fc.in_features)\n",
    "        self.ppm = pyramid_pooling_module(in_channels=ppm_in_channels, \n",
    "                                     out_channels=512, bin_sizes=[1,2,3,6])\n",
    "        \n",
    "        # classifier head\n",
    "        self.cls = nn.Sequential(\n",
    "            nn.Conv2d(ppm_in_channels * 2, 512, kernel_size=3, padding=1, bias=False),\n",
    "            nn.BatchNorm2d(512),\n",
    "            nn.ReLU(inplace=True),\n",
    "            nn.Dropout2d(p=0.1),\n",
    "            nn.Conv2d(512,  self.num_classes, kernel_size=1)            \n",
    "        )\n",
    "        \n",
    "        # main branch is composed of PPM + Classifier\n",
    "        self.main_branch = nn.Sequential(self.ppm, self.cls)\n",
    "        \n",
    "        # Define Auxilary branch if specified\n",
    "        self.use_aux = False\n",
    "        if(self.training and use_aux):\n",
    "            self.use_aux = True\n",
    "            self.aux_branch = nn.Sequential(\n",
    "                nn.Conv2d( int(ppm_in_channels / 2) , 256, kernel_size=3, padding=1, bias=False),\n",
    "                nn.BatchNorm2d(256),\n",
    "                nn.ReLU(inplace=True),\n",
    "                nn.Dropout2d(p=0.1),\n",
    "                nn.Conv2d(256, self.num_classes, kernel_size=1)\n",
    "            )\n",
    "        \n",
    "        \n",
    "    def forward(self, x):\n",
    "        input_size = x.shape[-2:]\n",
    "        \n",
    "        # Pass input through Backbone layers\n",
    "        x = self.initial(x)\n",
    "        x = self.layer1(x)\n",
    "        x = self.layer2(x)\n",
    "        x_aux = self.layer3(x)\n",
    "        x = self.layer4(x_aux)\n",
    "        \n",
    "        # Get Main branch output\n",
    "        main_output = self.main_branch(x)\n",
    "        main_output = F.interpolate(main_output, size=input_size, mode='bilinear')\n",
    "        \n",
    "        # If needed, get auxiliary branch output\n",
    "        if(self.training and self.use_aux):\n",
    "            aux_output = F.interpolate(self.aux_branch(x_aux), size=input_size, mode='bilinear')\n",
    "            return main_output, aux_output\n",
    "        return main_output        "
   ]
  },
  {
   "cell_type": "code",
   "execution_count": null,
   "id": "e68da70b",
   "metadata": {},
   "outputs": [],
   "source": [
    "model = PSPNet(in_channels=3, num_classes=2, use_aux=True)\n",
    "test_input = torch.Tensor(2,3,180, 320)\n",
    "main_branch_output, aux_input = model(test_input)\n",
    "print(main_branch_output.shape, aux_input.shape)"
   ]
  }
 ],
 "metadata": {
  "kernelspec": {
   "display_name": "python(imgseg)",
   "language": "python",
   "name": "imgseg"
  },
  "language_info": {
   "codemirror_mode": {
    "name": "ipython",
    "version": 3
   },
   "file_extension": ".py",
   "mimetype": "text/x-python",
   "name": "python",
   "nbconvert_exporter": "python",
   "pygments_lexer": "ipython3",
   "version": "3.7.0"
  }
 },
 "nbformat": 4,
 "nbformat_minor": 5
}
