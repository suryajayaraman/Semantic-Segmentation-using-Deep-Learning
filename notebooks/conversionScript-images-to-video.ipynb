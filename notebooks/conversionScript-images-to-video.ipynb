{
 "cells": [
  {
   "cell_type": "code",
   "execution_count": 1,
   "id": "6b310339",
   "metadata": {},
   "outputs": [],
   "source": [
    "import os\n",
    "import cv2\n",
    "import numpy as np\n",
    "from tqdm import tqdm\n",
    "import matplotlib.pyplot as plt"
   ]
  },
  {
   "cell_type": "code",
   "execution_count": 2,
   "id": "8ba666f3",
   "metadata": {},
   "outputs": [
    {
     "name": "stdout",
     "output_type": "stream",
     "text": [
      "163\n"
     ]
    }
   ],
   "source": [
    "video_dir = os.path.join('..', *['data', 'video_images'])\n",
    "video_images = sorted([os.path.join(video_dir, x) for x in os.listdir(video_dir)])\n",
    "print(len(video_images))"
   ]
  },
  {
   "cell_type": "code",
   "execution_count": 3,
   "id": "67bb92f5",
   "metadata": {},
   "outputs": [],
   "source": [
    "targetWidth = 1280\n",
    "targetHeight = 720\n",
    "out = cv2.VideoWriter('bdd100k_test_video_1280_720.avi',cv2.VideoWriter_fourcc(*'DIVX'), 10, (targetWidth, targetHeight))"
   ]
  },
  {
   "cell_type": "code",
   "execution_count": 4,
   "id": "20c4cc94",
   "metadata": {},
   "outputs": [
    {
     "name": "stderr",
     "output_type": "stream",
     "text": [
      "100%|████████████████████████████████████████| 163/163 [00:03<00:00, 41.50it/s]\n"
     ]
    }
   ],
   "source": [
    "for filename in tqdm(video_images):\n",
    "    img = cv2.imread(filename)\n",
    "#     img = cv2.resize(img, (targetWidth, targetHeight), interpolation=cv2.INTER_NEAREST)   \n",
    "    out.write(img)\n",
    "out.release()"
   ]
  }
 ],
 "metadata": {
  "kernelspec": {
   "display_name": "python(imgseg)",
   "language": "python",
   "name": "imgseg"
  },
  "language_info": {
   "codemirror_mode": {
    "name": "ipython",
    "version": 3
   },
   "file_extension": ".py",
   "mimetype": "text/x-python",
   "name": "python",
   "nbconvert_exporter": "python",
   "pygments_lexer": "ipython3",
   "version": "3.7.0"
  }
 },
 "nbformat": 4,
 "nbformat_minor": 5
}
