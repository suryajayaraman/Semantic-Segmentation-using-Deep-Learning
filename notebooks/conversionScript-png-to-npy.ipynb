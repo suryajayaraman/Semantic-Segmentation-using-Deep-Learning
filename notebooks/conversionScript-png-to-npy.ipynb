{
 "cells": [
  {
   "cell_type": "code",
   "execution_count": null,
   "id": "6b310339",
   "metadata": {},
   "outputs": [],
   "source": [
    "import os\n",
    "import cv2\n",
    "import numpy as np\n",
    "from tqdm import tqdm\n",
    "import matplotlib.pyplot as plt"
   ]
  },
  {
   "cell_type": "code",
   "execution_count": null,
   "id": "279601d6",
   "metadata": {},
   "outputs": [],
   "source": [
    "rgb_dir = os.path.join('..', *['data', 'images_360_640'])\n",
    "labels_dir = os.path.join('..', *['data', 'labels_360_640'])\n",
    "# video_dir = os.path.join('..', *['data', 'video_images'])\n",
    "\n",
    "image_names = [f.split('.')[0] for f in sorted(os.listdir(rgb_dir))]\n",
    "label_names = [f.split('.')[0] for f in sorted(os.listdir(labels_dir))]\n",
    "# video_names = [f.split('.')[0] for f in sorted(os.listdir(video_dir))]\n",
    "print(len(image_names), len(label_names))  # len(video_names)\n",
    "\n",
    "common_names = sorted(list(set(image_names).intersection(label_names)))\n",
    "print(len(common_names))"
   ]
  },
  {
   "cell_type": "code",
   "execution_count": null,
   "id": "fc027e5d",
   "metadata": {},
   "outputs": [],
   "source": [
    "targetWidth = 640\n",
    "targetHeight = 360\n",
    "image_data = []\n",
    "label_data = []"
   ]
  },
  {
   "cell_type": "code",
   "execution_count": null,
   "id": "ec623960",
   "metadata": {},
   "outputs": [],
   "source": [
    "for fileName in tqdm(common_names):\n",
    "    imagePath = os.path.join(rgb_dir, *[f\"{fileName}.png\"])\n",
    "    labelPath = os.path.join(labels_dir, *[f\"{fileName}.png\"])\n",
    "    \n",
    "    inputImg = cv2.imread(imagePath)\n",
    "    resizedInputImg = cv2.resize(inputImg, (targetWidth, targetHeight), interpolation=cv2.INTER_NEAREST)    \n",
    "    resizedInputImg = cv2.cvtColor(resizedInputImg, cv2.COLOR_BGR2RGB)\n",
    "    image_data.append(resizedInputImg)\n",
    "#     cv2.imwrite(os.path.join(outputImageDir, *[f\"{fileName}.jpg\"]), inputImg)\n",
    "\n",
    "    labelImg = cv2.imread(labelPath, -1)\n",
    "    resizedLabelImg = cv2.resize(labelImg, (targetWidth, targetHeight), interpolation=cv2.INTER_NEAREST)    \n",
    "    label_data.append(resizedLabelImg)\n",
    "\n",
    "#     cv2.imwrite(os.path.join(outputLabelDir, *[f\"{fileName}.jpg\"]), resizedLabelImg)"
   ]
  },
  {
   "cell_type": "code",
   "execution_count": null,
   "id": "885daa06",
   "metadata": {},
   "outputs": [],
   "source": [
    "image_data = np.array(image_data)\n",
    "label_data = np.array(label_data)\n",
    "print(image_data.shape, label_data.shape)"
   ]
  },
  {
   "cell_type": "code",
   "execution_count": null,
   "id": "572ed98e",
   "metadata": {},
   "outputs": [],
   "source": [
    "np.save(f'image_{targetHeight}_{targetWidth}.npy', image_data)\n",
    "np.save(f'label_{targetHeight}_{targetWidth}.npy', label_data)"
   ]
  }
 ],
 "metadata": {
  "kernelspec": {
   "display_name": "python(imgseg)",
   "language": "python",
   "name": "imgseg"
  },
  "language_info": {
   "codemirror_mode": {
    "name": "ipython",
    "version": 3
   },
   "file_extension": ".py",
   "mimetype": "text/x-python",
   "name": "python",
   "nbconvert_exporter": "python",
   "pygments_lexer": "ipython3",
   "version": "3.7.0"
  }
 },
 "nbformat": 4,
 "nbformat_minor": 5
}
