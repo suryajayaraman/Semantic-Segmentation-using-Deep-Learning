{
 "cells": [
  {
   "cell_type": "code",
   "execution_count": 1,
   "id": "6b310339",
   "metadata": {},
   "outputs": [],
   "source": [
    "import os\n",
    "import cv2\n",
    "import numpy as np\n",
    "from tqdm import tqdm\n",
    "import matplotlib.pyplot as plt"
   ]
  },
  {
   "cell_type": "code",
   "execution_count": 2,
   "id": "279601d6",
   "metadata": {},
   "outputs": [
    {
     "name": "stdout",
     "output_type": "stream",
     "text": [
      "10000 80000\n",
      "3430\n"
     ]
    }
   ],
   "source": [
    "rgb_dir = os.path.join('..', *['data', 'images'])\n",
    "labels_dir = os.path.join('..', *['data', 'masks'])\n",
    "labels_dir = r'D:\\surya\\studyMaterial\\thinkAutonomous\\thinkautonomous_imageSegmentation\\data\\bdd100k_drivable_labels_trainval\\bdd100k\\labels\\drivable\\masks\\train'\n",
    "# video_dir = os.path.join('..', *['data', 'video_images'])\n",
    "\n",
    "image_names = [f.split('.')[0] for f in sorted(os.listdir(rgb_dir))]\n",
    "label_names = [f.split('.')[0] for f in sorted(os.listdir(labels_dir))]\n",
    "# video_names = [f.split('.')[0] for f in sorted(os.listdir(video_dir))]\n",
    "print(len(image_names), len(label_names))  # len(video_names)\n",
    "\n",
    "common_names = sorted(list(set(image_names).intersection(label_names)))\n",
    "print(len(common_names))"
   ]
  },
  {
   "cell_type": "code",
   "execution_count": 3,
   "id": "fc027e5d",
   "metadata": {},
   "outputs": [],
   "source": [
    "targetWidth = 640\n",
    "targetHeight = 360\n",
    "outputImageDir = os.path.join('..', *['data', 'images_360_640'])\n",
    "outputLabelDir = os.path.join('..', *['data', 'labels_360_640'])"
   ]
  },
  {
   "cell_type": "code",
   "execution_count": 4,
   "id": "ec623960",
   "metadata": {},
   "outputs": [
    {
     "name": "stderr",
     "output_type": "stream",
     "text": [
      "100%|██████████████████████████████████████| 3430/3430 [03:09<00:00, 18.10it/s]\n"
     ]
    }
   ],
   "source": [
    "for fileName in tqdm(common_names):\n",
    "    imagePath = os.path.join(rgb_dir, *[f\"{fileName}.jpg\"])\n",
    "    labelPath = os.path.join(labels_dir, *[f\"{fileName}.png\"])\n",
    "    \n",
    "    inputImg = cv2.imread(imagePath)\n",
    "    resizedInputImg = cv2.resize(inputImg, (targetWidth, targetHeight), interpolation=cv2.INTER_NEAREST)\n",
    "    cv2.imwrite(os.path.join(outputImageDir, *[f\"{fileName}.png\"]), resizedInputImg)\n",
    "\n",
    "    labelImg = cv2.imread(labelPath, -1)\n",
    "    resizedLabelImg = cv2.resize(labelImg, (targetWidth, targetHeight), interpolation=cv2.INTER_NEAREST)\n",
    "    cv2.imwrite(os.path.join(outputLabelDir, *[f\"{fileName}.png\"]), resizedLabelImg)"
   ]
  },
  {
   "cell_type": "code",
   "execution_count": null,
   "id": "0bd5bd17",
   "metadata": {},
   "outputs": [],
   "source": [
    "# idx = np.random.choice(len(common_names))\n",
    "# image_path = os.path.join(rgb_dir, *[f\"{common_names[idx]}.jpg\"])\n",
    "# label_path = os.path.join(labels_dir, *[f\"{common_names[idx]}.png\"])\n",
    "\n",
    "# inputImg = cv2.imread(image_path)\n",
    "# resizedInputImg = cv2.resize(inputImg, (targetWidth, targetHeight), interpolation=cv2.INTER_NEAREST)\n",
    "# resizedInputImg = cv2.cvtColor(resizedInputImg, cv2.COLOR_BGR2RGB)\n",
    "# # cv2.imwrite(f\"{outputDir}/{type}/label/{fileName}\", resizedTargetImg)\n",
    "\n",
    "# labelImg = cv2.imread(label_path, -1)\n",
    "# resizedLabelImg = cv2.resize(labelImg, (targetWidth, targetHeight), interpolation=cv2.INTER_NEAREST)\n",
    "\n",
    "# fig, axes = plt.subplots(1,2, figsize=(20,10))\n",
    "# axes[0].imshow(resizedInputImg)\n",
    "# axes[1].imshow(resizedLabelImg)"
   ]
  },
  {
   "cell_type": "code",
   "execution_count": null,
   "id": "086ab13b",
   "metadata": {},
   "outputs": [],
   "source": [
    "# # rgb_train_dir = os.path.join(rgb_dir, *['train'])\n",
    "# # rgb_val_dir = os.path.join(rgb_dir, *['val'])\n",
    "# # rgb_test_dir = os.path.join(rgb_dir, *['test'])\n",
    "\n",
    "# train_files = sorted([os.path.join(rgb_train_dir, x) for x in os.listdir(rgb_train_dir)])\n",
    "# val_files = sorted([os.path.join(rgb_val_dir, x) for x in os.listdir(rgb_val_dir)])\n",
    "# test_files = sorted([os.path.join(rgb_test_dir, x) for x in os.listdir(rgb_test_dir)])\n",
    "\n",
    "# # train_files = sorted(os.listdir(rgb_train_dir))\n",
    "# # val_files = sorted(os.listdir(rgb_val_dir))\n",
    "# # test_files = sorted(os.listdir(rgb_test_dir))\n",
    "# print(len(train_files), len(val_files), len(test_files))\n",
    "\n",
    "\n",
    "# labels_train_dir = os.path.join(labels_dir, *['train'])\n",
    "# labels_val_dir = os.path.join(labels_dir, *['val'])\n",
    "\n",
    "# train_labels = sorted([os.path.join(labels_train_dir, x) for x in os.listdir(labels_train_dir)])\n",
    "# val_labels = sorted([os.path.join(labels_val_dir, x) for x in os.listdir(labels_val_dir)])\n",
    "\n",
    "# # train_labels = sorted(os.listdir(labels_train_dir))\n",
    "# # val_labels = sorted(os.listdir(labels_val_dir))\n",
    "# print(len(train_labels), len(val_labels))"
   ]
  }
 ],
 "metadata": {
  "kernelspec": {
   "display_name": "python(imgseg)",
   "language": "python",
   "name": "imgseg"
  },
  "language_info": {
   "codemirror_mode": {
    "name": "ipython",
    "version": 3
   },
   "file_extension": ".py",
   "mimetype": "text/x-python",
   "name": "python",
   "nbconvert_exporter": "python",
   "pygments_lexer": "ipython3",
   "version": "3.7.0"
  }
 },
 "nbformat": 4,
 "nbformat_minor": 5
}
